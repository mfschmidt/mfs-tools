{
 "cells": [
  {
   "cell_type": "code",
   "id": "initial_id",
   "metadata": {
    "collapsed": true
   },
   "source": [
    "%load_ext autoreload\n",
    "%autoreload 2\n",
    "\n",
    "from pathlib import Path\n",
    "import numpy as np\n",
    "from scipy.spatial.distance import cdist\n",
    "import nibabel as nib\n",
    "from nibabel.affines import apply_affine\n",
    "\n",
    "\n",
    "reference_cifti_path = Path(\n",
    "    \"/mnt/cache/pfm_python/\"\n",
    "    \"/sub-ME01_task-rest_concatenated_and_demeaned_32k_fsLR.dtseries.nii\"\n",
    ")\n",
    "surface_files = {\n",
    "    'lh': Path(\n",
    "        \"/mnt/brunodata/open_data/ds005118/derivatives/sub-ME01/fs_LR/fsaverage_LR32k\"\n",
    "        \"/ME01.L.midthickness.32k_fs_LR.surf.gii\"\n",
    "    ),\n",
    "    'rh': Path(\n",
    "        \"/mnt/brunodata/open_data/ds005118/derivatives/sub-ME01/fs_LR/fsaverage_LR32k\"\n",
    "        \"/ME01.R.midthickness.32k_fs_LR.surf.gii\"\n",
    "    ),\n",
    "}\n"
   ],
   "outputs": [],
   "execution_count": null
  },
  {
   "metadata": {},
   "cell_type": "code",
   "source": [
    "# Get gifti coordinates to calculate Euclidean distance between them.\n",
    "\n",
    "# Load the reference Cifti2 image for its brain axis\n",
    "ref_img = nib.cifti2.Cifti2Image.from_filename(reference_cifti_path)\n",
    "brain_ax = ref_img.header.get_axis(1)\n",
    "print(f\"Length of cifti2 brain_axis: {len(brain_ax)}\")\n",
    "\n",
    "# Extract the 3D Cartesian coordinates of all surface vertices\n",
    "lh_surface_img = nib.gifti.gifti.GiftiImage.from_filename(surface_files['lh'])\n",
    "rh_surface_img = nib.gifti.gifti.GiftiImage.from_filename(surface_files['rh'])\n",
    "\n",
    "# Extract the vertex indices into the mapped BOLD data\n",
    "anat_map = {\n",
    "    'CortexLeft': 'CIFTI_STRUCTURE_CORTEX_LEFT',\n",
    "    'CortexRight': 'CIFTI_STRUCTURE_CORTEX_RIGHT',\n",
    "}\n",
    "lh_surf_anat = lh_surface_img.darrays[0].metadata.get('AnatomicalStructurePrimary', '')\n",
    "lh_surf_idx = brain_ax[brain_ax.name == anat_map[lh_surf_anat]]\n",
    "lh_surf_coords = lh_surface_img.darrays[0].data[lh_surf_idx.vertex, :]\n",
    "print(f\"Just vertices in {str(type(lh_surf_idx))} {lh_surf_anat}: {len(lh_surf_idx)}\")\n",
    "rh_surf_anat = rh_surface_img.darrays[0].metadata.get('AnatomicalStructurePrimary', '')\n",
    "rh_surf_idx = brain_ax[brain_ax.name == anat_map[rh_surf_anat]]\n",
    "rh_surf_coords = rh_surface_img.darrays[0].data[rh_surf_idx.vertex, :]\n",
    "print(f\"Just vertices in {str(type(rh_surf_idx))} {rh_surf_anat}: {len(rh_surf_idx)}\")\n",
    "\n",
    "# Get the subcortical voxels, too, from a volumetric grid rather than vertices.\n",
    "# Note that python's voxel locations are consistently shifted relative to\n",
    "# matlab's. Python's x values are ml+2mm, y=ml+2mm, z=ml-2mm.\n",
    "# Maybe 0-based vs 1-based indexing, then multiplied by the affine?\n",
    "# Maybe it's start of voxel vs end of voxel, not center?\n",
    "# It's all relative, so the subcortex-to-subcortex distances are identical,\n",
    "# and distance differences are only between subcortical and cortical.\n",
    "# If I add one to all the voxel coordinates before applying the affine,\n",
    "# my coordinates match those in Lynch's matlab code perfectly. This sounds\n",
    "# suspect, but I'm not sure how to validate the \"TRUE\" location of\n",
    "# a voxel. One way would be to ask whether either the python-style\n",
    "# or matlab-style of applying an affine results in a leftward or rightward\n",
    "# bias. We test that here.\n",
    "ctx_labels = list(anat_map.values())\n",
    "sc_coords_ml_style = apply_affine(\n",
    "    brain_ax.affine, brain_ax.voxel[~np.isin(brain_ax.name, ctx_labels)] + 1,\n",
    ")\n",
    "sc_coords_py_style = apply_affine(\n",
    "    brain_ax.affine, brain_ax.voxel[~np.isin(brain_ax.name, ctx_labels)],\n",
    ")\n",
    "\n",
    "print(\"Nifti subcortical coordinates (python): \"\n",
    "      f\"{sc_coords_py_style.shape}\")\n",
    "print(\"Nifti subcortical coordinates (matlab): \"\n",
    "      f\"{sc_coords_ml_style.shape}\")\n",
    "print(\"Cifti cortical coordinates: \"\n",
    "      f\" = {lh_surf_coords.shape} & {rh_surf_coords.shape}\")\n",
    "\n",
    "whole_brain_coordinates = np.vstack([\n",
    "    lh_surf_coords, rh_surf_coords, sc_coords_py_style\n",
    "])\n",
    "print(\"Whole brain coordinates: \"\n",
    "      f\" = {whole_brain_coordinates.shape}\")\n"
   ],
   "id": "14df56250d045522",
   "outputs": [],
   "execution_count": null
  },
  {
   "metadata": {},
   "cell_type": "markdown",
   "source": [
    "The affine first multiplies x by -2, then shifts x by +90,\n",
    "multiplies y by +2, then shifts y by -126,\n",
    "multiplies z by +2, then shifts z by -72.\n",
    "So a voxel at (10, 20, 30) would be scaled to (-20, 40, 60),\n",
    "then shifted to (70, -86, -12). Adding one to the original\n",
    "coordinates would result in (68, -84, -10).\n",
    "\n",
    "Increasing z (A-P) would have little effect on average sc-ctx distance.\n",
    "Increasing y (I-S) would reduce teh sc-ctx distance for both hemispheres.\n",
    "Decreasing x (L-R) would cause a 2mm leftward bias in sc-ctx distances.\n",
    "Do we see that adding 1 to python's coordinates corrected a rightward\n",
    "bias or caused a leftward bias?   "
   ],
   "id": "12d3cf14de11c4d2"
  },
  {
   "metadata": {},
   "cell_type": "code",
   "source": [
    "print(apply_affine(\n",
    "    brain_ax.affine, np.array([[10, 20, 30, ], [11, 21, 31, ], [0.0, 0.0, 0.0, ]]),\n",
    "))"
   ],
   "id": "b0b31bb8f0418ca9",
   "outputs": [],
   "execution_count": null
  },
  {
   "metadata": {},
   "cell_type": "code",
   "source": [
    "# Calculate Euclidean distances from each subcortical voxel to each\n",
    "# cortical vertex\n",
    "for (style, sc_coords) in [\n",
    "    (\"python\", sc_coords_py_style), (\"matlab\", sc_coords_ml_style),\n",
    "]:\n",
    "    sc_to_lh_dist = np.uint8(\n",
    "        np.clip(cdist(sc_coords, lh_surf_coords) + 0.5, 0, 255)\n",
    "    )\n",
    "    sc_to_rh_dist = np.uint8(\n",
    "        np.clip(cdist(sc_coords, rh_surf_coords) + 0.5, 0, 255)\n",
    "    )\n",
    "    \n",
    "    print(f\"For {style}, \"\n",
    "          \"the mean distance from sc to left cortex is \"\n",
    "          f\"{np.mean(sc_to_lh_dist):0.2f}; \"\n",
    "          \"and from sc to right cortex is \"\n",
    "          f\"{np.mean(sc_to_rh_dist):0.2f}.\")\n",
    "    "
   ],
   "id": "2f5b46a0929f67fa",
   "outputs": [],
   "execution_count": null
  },
  {
   "metadata": {},
   "cell_type": "markdown",
   "source": [
    "Applying the affine to raw coordinates resulted in a 1.1mm rightward bias.\n",
    "Adding 1 to the coordinates shifted subcortex leftward, slightly over-correcting the bias to -0.3mm.\n",
    "It appears that adding 1 balances the left/right cortical distances and is probably correct."
   ],
   "id": "d78b9466d55237f3"
  },
  {
   "metadata": {},
   "cell_type": "code",
   "source": "",
   "id": "a6b065553f9bf9bf",
   "outputs": [],
   "execution_count": null
  }
 ],
 "metadata": {
  "kernelspec": {
   "display_name": "Python 3",
   "language": "python",
   "name": "python3"
  },
  "language_info": {
   "codemirror_mode": {
    "name": "ipython",
    "version": 2
   },
   "file_extension": ".py",
   "mimetype": "text/x-python",
   "name": "python",
   "nbconvert_exporter": "python",
   "pygments_lexer": "ipython2",
   "version": "2.7.6"
  }
 },
 "nbformat": 4,
 "nbformat_minor": 5
}
