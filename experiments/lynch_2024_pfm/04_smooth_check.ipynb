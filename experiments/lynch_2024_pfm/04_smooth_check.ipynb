{
 "cells": [
  {
   "cell_type": "code",
   "id": "initial_id",
   "metadata": {
    "collapsed": true,
    "ExecuteTime": {
     "end_time": "2025-01-12T21:50:10.106389Z",
     "start_time": "2025-01-12T21:50:10.049459Z"
    }
   },
   "source": [
    "%load_ext autoreload\n",
    "%autoreload 2\n",
    "\n",
    "from pathlib import Path\n",
    "import nibabel as nib\n",
    "import subprocess\n",
    "from datetime import datetime\n",
    "\n",
    "from mfs_tools.library.distance_stuff import find_wb_command_path\n",
    "from mfs_tools.library.utility_stuff import compare_mats\n",
    "\n",
    "\n",
    "save_to = Path(\"/mnt/cache/pfm_python/\")\n",
    "cifti_bold_path = (\n",
    "    save_to /\n",
    "    \"sub-ME01_task-rest_concatenated_demeaned_and_regressed_32k_fsLR.dtseries.nii\"\n",
    ")\n",
    "surface_files = {\n",
    "    'lh': Path(\n",
    "        \"/mnt/brunodata/open_data/ds005118/derivatives/sub-ME01/fs_LR/fsaverage_LR32k\"\n",
    "        \"/ME01.L.midthickness.32k_fs_LR.surf.gii\"\n",
    "    ),\n",
    "    'rh': Path(\n",
    "        \"/mnt/brunodata/open_data/ds005118/derivatives/sub-ME01/fs_LR/fsaverage_LR32k\"\n",
    "        \"/ME01.R.midthickness.32k_fs_LR.surf.gii\"\n",
    "    ),\n",
    "}\n",
    "distance_matrix_path = save_to / \"dist_complete.npy\"\n",
    "\n",
    "wb_command_path = find_wb_command_path(\"/usr/local/workbench/2.0.1/bin_linux64/wb_command\")\n",
    "work_dir = None\n",
    "\n",
    "matlab_base_path = Path(\"/mnt/cache/pfm_matlab\")\n"
   ],
   "outputs": [
    {
     "name": "stdout",
     "output_type": "stream",
     "text": [
      "The autoreload extension is already loaded. To reload it, use:\n",
      "  %reload_ext autoreload\n"
     ]
    }
   ],
   "execution_count": 5
  },
  {
   "metadata": {
    "ExecuteTime": {
     "end_time": "2025-01-12T22:03:11.911007Z",
     "start_time": "2025-01-12T22:00:17.581638Z"
    }
   },
   "cell_type": "code",
   "source": [
    "smoothed_images = dict()\n",
    "kernel_sizes = [\"0.85\", \"1.7\", \"2.55\", ]\n",
    "for k in kernel_sizes:\n",
    "    print(datetime.now())\n",
    "    output_file = str(cifti_bold_path).replace(\n",
    "        \"_and_regressed_32k\", f\"_regressed_and_smoothed-{k}_32k\"\n",
    "    )\n",
    "    command_list = [\n",
    "        str(wb_command_path), '-cifti-smoothing',\n",
    "        str(cifti_bold_path), k, k, \"COLUMN\",\n",
    "        output_file,\n",
    "        \"-left-surface\", str(surface_files['lh']),\n",
    "        \"-right-surface\", str(surface_files['rh']),\n",
    "        \"-merged-volume\"\n",
    "    ]\n",
    "    print(\"Command: \" + \" \".join(command_list))\n",
    "    _p = subprocess.run(command_list)\n",
    "    if _p.returncode != 0:\n",
    "        print(\"  failed\")\n",
    "    else:\n",
    "        print(\"  success\")\n",
    "\n",
    "    saved_img = nib.Cifti2Image.from_filename(output_file)\n",
    "    print(saved_img.dataobj.dtype)\n",
    "\n",
    "    smoothed_images[k] = {\n",
    "        'img': saved_img,\n",
    "        'path': Path(output_file),\n",
    "        'k': k,\n",
    "    }\n",
    "    print(datetime.now())\n"
   ],
   "id": "87951f214f9bd208",
   "outputs": [
    {
     "name": "stdout",
     "output_type": "stream",
     "text": [
      "2025-01-12 17:00:17.636601\n",
      "Command: /opt/workbench/bin_linux64/wb_command -cifti-smoothing /mnt/cache/pfm_python/sub-ME01_task-rest_concatenated_demeaned_and_regressed_32k_fsLR.dtseries.nii 0.85 0.85 COLUMN /mnt/cache/pfm_python/sub-ME01_task-rest_concatenated_demeaned_regressed_and_smoothed-0.85_32k_fsLR.dtseries.nii -left-surface /mnt/brunodata/open_data/ds005118/derivatives/sub-ME01/fs_LR/fsaverage_LR32k/ME01.L.midthickness.32k_fs_LR.surf.gii -right-surface /mnt/brunodata/open_data/ds005118/derivatives/sub-ME01/fs_LR/fsaverage_LR32k/ME01.R.midthickness.32k_fs_LR.surf.gii -merged-volume\n",
      "  success\n",
      "float32\n",
      "2025-01-12 17:01:13.933464\n",
      "2025-01-12 17:01:13.933490\n",
      "Command: /opt/workbench/bin_linux64/wb_command -cifti-smoothing /mnt/cache/pfm_python/sub-ME01_task-rest_concatenated_demeaned_and_regressed_32k_fsLR.dtseries.nii 1.7 1.7 COLUMN /mnt/cache/pfm_python/sub-ME01_task-rest_concatenated_demeaned_regressed_and_smoothed-1.7_32k_fsLR.dtseries.nii -left-surface /mnt/brunodata/open_data/ds005118/derivatives/sub-ME01/fs_LR/fsaverage_LR32k/ME01.L.midthickness.32k_fs_LR.surf.gii -right-surface /mnt/brunodata/open_data/ds005118/derivatives/sub-ME01/fs_LR/fsaverage_LR32k/ME01.R.midthickness.32k_fs_LR.surf.gii -merged-volume\n",
      "  success\n",
      "float32\n",
      "2025-01-12 17:02:11.512057\n",
      "2025-01-12 17:02:11.512082\n",
      "Command: /opt/workbench/bin_linux64/wb_command -cifti-smoothing /mnt/cache/pfm_python/sub-ME01_task-rest_concatenated_demeaned_and_regressed_32k_fsLR.dtseries.nii 2.55 2.55 COLUMN /mnt/cache/pfm_python/sub-ME01_task-rest_concatenated_demeaned_regressed_and_smoothed-2.55_32k_fsLR.dtseries.nii -left-surface /mnt/brunodata/open_data/ds005118/derivatives/sub-ME01/fs_LR/fsaverage_LR32k/ME01.L.midthickness.32k_fs_LR.surf.gii -right-surface /mnt/brunodata/open_data/ds005118/derivatives/sub-ME01/fs_LR/fsaverage_LR32k/ME01.R.midthickness.32k_fs_LR.surf.gii -merged-volume\n",
      "  success\n",
      "float32\n",
      "2025-01-12 17:03:11.908298\n"
     ]
    }
   ],
   "execution_count": 8
  },
  {
   "metadata": {
    "ExecuteTime": {
     "end_time": "2025-01-12T22:03:42.319850Z",
     "start_time": "2025-01-12T22:03:11.951974Z"
    }
   },
   "cell_type": "code",
   "source": [
    "# Are the output BOLD data the same?\n",
    "# Note the tolerance. There are differences, probably due to float\n",
    "# encoding or minor regression fitting between matlab and python.\n",
    "# These differences exist beyond the fifth decimal point, but for\n",
    "# this, we don't really care about that. If BOLD values match to\n",
    "# the hundred-thousandth place, that's way more than close enough for us.\n",
    "for k, img_dict in smoothed_images.items():\n",
    "    ml_smoothed_img = nib.Cifti2Image.from_filename(\n",
    "        str(matlab_base_path / img_dict['path'].name)\n",
    "    )\n",
    "    compare_mats(img_dict['img'].get_fdata(), ml_smoothed_img.get_fdata(),\n",
    "                 a_name=f\"python {img_dict['k']}-smoothed BOLD\",\n",
    "                 b_name=f\"matlab {img_dict['k']}-smoothed BOLD\",\n",
    "                 tolerance=0.00001, verbose=True, preview=True)\n"
   ],
   "id": "f14c8f891e73573a",
   "outputs": [
    {
     "name": "stdout",
     "output_type": "stream",
     "text": [
      "\u001B[1;32m  The matrices 'python 0.85-smoothed BOLD' and 'matlab 0.85-smoothed BOLD' are equal, with tolerance of 1e-05.\u001B[0m\n",
      "  Mem before 3,524.8MB; Mem after 3,525.2MB; delta 0.4\n",
      "\u001B[1;32m  The matrices 'python 1.7-smoothed BOLD' and 'matlab 1.7-smoothed BOLD' are equal, with tolerance of 1e-05.\u001B[0m\n",
      "  Mem before 5,193.9MB; Mem after 5,193.9MB; delta 0.1\n",
      "\u001B[1;32m  The matrices 'python 2.55-smoothed BOLD' and 'matlab 2.55-smoothed BOLD' are equal, with tolerance of 1e-05.\u001B[0m\n",
      "  Mem before 6,854.2MB; Mem after 6,854.2MB; delta 0.1\n"
     ]
    }
   ],
   "execution_count": 9
  },
  {
   "metadata": {},
   "cell_type": "code",
   "outputs": [],
   "execution_count": null,
   "source": "",
   "id": "a296902290e1d76c"
  }
 ],
 "metadata": {
  "kernelspec": {
   "display_name": "Python 3",
   "language": "python",
   "name": "python3"
  },
  "language_info": {
   "codemirror_mode": {
    "name": "ipython",
    "version": 2
   },
   "file_extension": ".py",
   "mimetype": "text/x-python",
   "name": "python",
   "nbconvert_exporter": "python",
   "pygments_lexer": "ipython2",
   "version": "2.7.6"
  }
 },
 "nbformat": 4,
 "nbformat_minor": 5
}
