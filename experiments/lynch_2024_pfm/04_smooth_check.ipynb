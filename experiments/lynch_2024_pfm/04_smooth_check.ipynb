{
 "cells": [
  {
   "cell_type": "code",
   "id": "initial_id",
   "metadata": {
    "collapsed": true,
    "ExecuteTime": {
     "end_time": "2025-01-12T05:26:56.402233Z",
     "start_time": "2025-01-12T05:26:55.659161Z"
    }
   },
   "source": [
    "%load_ext autoreload\n",
    "%autoreload 2\n",
    "\n",
    "from pathlib import Path\n",
    "import nibabel as nib\n",
    "import subprocess\n",
    "\n",
    "from mfs_tools.library.distance_stuff import find_wb_command_path\n",
    "\n",
    "\n",
    "save_to = Path(\"/mnt/cache/pfm_python/\")\n",
    "cifti_bold_path = (\n",
    "    save_to /\n",
    "    \"sub-ME01_task-rest_concatenated_demeaned_and_regressed_32k_fsLR.dtseries.nii\"\n",
    ")\n",
    "surface_files = {\n",
    "    'lh': Path(\n",
    "        \"/mnt/brunodata/open_data/ds005118/derivatives/sub-ME01/fs_LR/fsaverage_LR32k\"\n",
    "        \"/ME01.L.midthickness.32k_fs_LR.surf.gii\"\n",
    "    ),\n",
    "    'rh': Path(\n",
    "        \"/mnt/brunodata/open_data/ds005118/derivatives/sub-ME01/fs_LR/fsaverage_LR32k\"\n",
    "        \"/ME01.R.midthickness.32k_fs_LR.surf.gii\"\n",
    "    ),\n",
    "}\n",
    "distance_matrix_path = save_to / \"dist_complete.npy\"\n",
    "\n",
    "wb_command_path = find_wb_command_path(\"/usr/local/workbench/2.0.1/bin_linux64/wb_command\")\n",
    "work_dir = None\n"
   ],
   "outputs": [],
   "execution_count": 1
  },
  {
   "metadata": {
    "ExecuteTime": {
     "end_time": "2025-01-12T05:47:15.257827Z",
     "start_time": "2025-01-12T05:44:23.563455Z"
    }
   },
   "cell_type": "code",
   "source": [
    "kernel_sizes = [0.85, 1.7, 2.55, ]\n",
    "for k in [f\"{kernel_size:0.2f}\" for kernel_size in kernel_sizes]:\n",
    "    output_file = str(cifti_bold_path).replace(\"_32k\", f\"_smooth-{k}_32k\")\n",
    "    command_list = [\n",
    "        str(wb_command_path), '-cifti-smoothing',\n",
    "        str(cifti_bold_path), k, k, \"COLUMN\",\n",
    "        output_file,\n",
    "        \"-left-surface\", str(surface_files['lh']),\n",
    "        \"-right-surface\", str(surface_files['rh']),\n",
    "        \"-merged-volume\"\n",
    "    ]\n",
    "    print(\" \".join(command_list))\n",
    "    _p = subprocess.run(command_list)\n",
    "    if _p.returncode != 0:\n",
    "        print(\"  failed\")\n",
    "    else:\n",
    "        print(\"  success\")\n",
    "\n",
    "    saved_img = nib.Cifti2Image.from_filename(output_file)\n",
    "    print(saved_img.dataobj.dtype)\n"
   ],
   "id": "87951f214f9bd208",
   "outputs": [
    {
     "name": "stdout",
     "output_type": "stream",
     "text": [
      "/opt/workbench/bin_linux64/wb_command -cifti-smoothing /mnt/cache/pfm_python/sub-ME01_task-rest_concatenated_demeaned_and_regressed_32k_fsLR.dtseries.nii 0.5 0.5 COLUMN /mnt/cache/pfm_python/sub-ME01_task-rest_concatenated_demeaned_and_regressed_smooth-0.5_32k_fsLR.dtseries.nii -left-surface /mnt/brunodata/open_data/ds005118/derivatives/sub-ME01/fs_LR/fsaverage_LR32k/ME01.L.midthickness.32k_fs_LR.surf.gii -right-surface /mnt/brunodata/open_data/ds005118/derivatives/sub-ME01/fs_LR/fsaverage_LR32k/ME01.R.midthickness.32k_fs_LR.surf.gii -merged-volume\n",
      "  success\n",
      "float32\n",
      "/opt/workbench/bin_linux64/wb_command -cifti-smoothing /mnt/cache/pfm_python/sub-ME01_task-rest_concatenated_demeaned_and_regressed_32k_fsLR.dtseries.nii 1.2 1.2 COLUMN /mnt/cache/pfm_python/sub-ME01_task-rest_concatenated_demeaned_and_regressed_smooth-1.2_32k_fsLR.dtseries.nii -left-surface /mnt/brunodata/open_data/ds005118/derivatives/sub-ME01/fs_LR/fsaverage_LR32k/ME01.L.midthickness.32k_fs_LR.surf.gii -right-surface /mnt/brunodata/open_data/ds005118/derivatives/sub-ME01/fs_LR/fsaverage_LR32k/ME01.R.midthickness.32k_fs_LR.surf.gii -merged-volume\n",
      "  success\n",
      "float32\n",
      "/opt/workbench/bin_linux64/wb_command -cifti-smoothing /mnt/cache/pfm_python/sub-ME01_task-rest_concatenated_demeaned_and_regressed_32k_fsLR.dtseries.nii 5.0 5.0 COLUMN /mnt/cache/pfm_python/sub-ME01_task-rest_concatenated_demeaned_and_regressed_smooth-5.0_32k_fsLR.dtseries.nii -left-surface /mnt/brunodata/open_data/ds005118/derivatives/sub-ME01/fs_LR/fsaverage_LR32k/ME01.L.midthickness.32k_fs_LR.surf.gii -right-surface /mnt/brunodata/open_data/ds005118/derivatives/sub-ME01/fs_LR/fsaverage_LR32k/ME01.R.midthickness.32k_fs_LR.surf.gii -merged-volume\n",
      "  success\n",
      "float32\n"
     ]
    }
   ],
   "execution_count": 3
  },
  {
   "metadata": {},
   "cell_type": "code",
   "outputs": [],
   "execution_count": null,
   "source": "",
   "id": "f14c8f891e73573a"
  }
 ],
 "metadata": {
  "kernelspec": {
   "display_name": "Python 3",
   "language": "python",
   "name": "python3"
  },
  "language_info": {
   "codemirror_mode": {
    "name": "ipython",
    "version": 2
   },
   "file_extension": ".py",
   "mimetype": "text/x-python",
   "name": "python",
   "nbconvert_exporter": "python",
   "pygments_lexer": "ipython2",
   "version": "2.7.6"
  }
 },
 "nbformat": 4,
 "nbformat_minor": 5
}
