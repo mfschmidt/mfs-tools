{
 "cells": [
  {
   "cell_type": "code",
   "id": "initial_id",
   "metadata": {
    "collapsed": true,
    "ExecuteTime": {
     "end_time": "2025-01-12T00:31:27.426192Z",
     "start_time": "2025-01-12T00:31:23.995575Z"
    }
   },
   "source": [
    "%load_ext autoreload\n",
    "%autoreload 2\n",
    "\n",
    "from pathlib import Path\n",
    "import numpy as np\n",
    "import nibabel as nib\n",
    "from scipy import stats\n",
    "\n",
    "from mfs_tools.library.cifti_stuff import get_cortical_indices, get_subcortical_indices, get_cortical_data, get_axes_by_type, get_brain_model_axes\n",
    "\n",
    "\n",
    "save_to = Path(\"/mnt/cache/pfm_python/\")\n",
    "reference_cifti_path = (\n",
    "    save_to /\n",
    "    \"sub-ME01_task-rest_concatenated_and_demeaned_32k_fsLR.dtseries.nii\"\n",
    ")\n",
    "distance_matrix_path = save_to / \"dist_complete.npy\"\n"
   ],
   "outputs": [],
   "execution_count": 1
  },
  {
   "metadata": {
    "ExecuteTime": {
     "end_time": "2025-01-12T00:52:06.399084Z",
     "start_time": "2025-01-12T00:51:36.926302Z"
    }
   },
   "cell_type": "code",
   "source": [
    "# Load data\n",
    "bold_cifti = nib.Cifti2Image.from_filename(reference_cifti_path)\n",
    "distance_matrix = np.load(distance_matrix_path)\n"
   ],
   "id": "d9ec98771cb7b2ba",
   "outputs": [],
   "execution_count": 2
  },
  {
   "metadata": {
    "ExecuteTime": {
     "end_time": "2025-01-12T02:44:41.137984Z",
     "start_time": "2025-01-12T02:44:35.108Z"
    }
   },
   "cell_type": "code",
   "source": [
    "# Only calculate distance to real cortical vertices that may get used.\n",
    "cort_idx = get_cortical_indices(bold_cifti)\n",
    "subcort_idx = get_subcortical_indices(bold_cifti)\n",
    "relevant_distances = distance_matrix[subcort_idx, :][:, cort_idx]\n"
   ],
   "id": "5a0762cd2a37a835",
   "outputs": [],
   "execution_count": 40
  },
  {
   "metadata": {
    "ExecuteTime": {
     "end_time": "2025-01-12T02:45:44.489506Z",
     "start_time": "2025-01-12T02:45:44.467289Z"
    }
   },
   "cell_type": "code",
   "source": [
    "print(f\"Filtered distance matrix down to {relevant_distances.shape[0]:,} \"\n",
    "      f\"sub-cortical voxels by {relevant_distances.shape[1]:,} \"\n",
    "      f\"cortical vertices\")\n"
   ],
   "id": "3c1db6b0a3d2232a",
   "outputs": [
    {
     "name": "stdout",
     "output_type": "stream",
     "text": [
      "Filtered distance matrix down to 25,647 sub-cortical voxels by 59,412 cortical vertices\n"
     ]
    }
   ],
   "execution_count": 41
  },
  {
   "metadata": {
    "ExecuteTime": {
     "end_time": "2025-01-12T04:06:34.602952Z",
     "start_time": "2025-01-12T04:06:34.405824Z"
    }
   },
   "cell_type": "code",
   "source": [
    "# Determine which subcortical voxels are within 20mm of a cortical vertex.\n",
    "smallest_distances = np.min(relevant_distances, axis=1)\n",
    "outer_voxel_indices = np.where(smallest_distances <= 20)[0]\n"
   ],
   "id": "ea7a487811f08d7c",
   "outputs": [],
   "execution_count": 80
  },
  {
   "metadata": {},
   "cell_type": "markdown",
   "source": [
    "This generates a list of 19,137 voxels within 20mm of a cortical vertex.\n",
    "This is exactly the same as the 19,137 voxels in Lynch's matlab code/data.\n",
    "Next, we loop over each voxel near cortex, extract the BOLD from all\n",
    "voxels within the 20mm threshold, and regress the cortical BOLD signal\n",
    "from it."
   ],
   "id": "649168e7263e7910"
  },
  {
   "metadata": {
    "ExecuteTime": {
     "end_time": "2025-01-12T04:02:21.657388Z",
     "start_time": "2025-01-12T04:02:21.628825Z"
    }
   },
   "cell_type": "code",
   "source": [
    "def print_array_summary(a, desc):\n",
    "    print(f\"{desc} is shaped {a.shape}:\")\n",
    "    print(\"  [\" + \"\".join(\n",
    "        [\", \".join([f\"{v:0.2f}\" for v in a[:5]])] +\n",
    "        [\", ..., \"] +\n",
    "        [\", \".join([f\"{v:0.2f}\" for v in a[-5:]])]\n",
    "    ) + \"]\")\n"
   ],
   "id": "6214277d714a2195",
   "outputs": [],
   "execution_count": 78
  },
  {
   "metadata": {
    "ExecuteTime": {
     "end_time": "2025-01-12T03:58:34.338251Z",
     "start_time": "2025-01-12T03:58:34.297529Z"
    }
   },
   "cell_type": "code",
   "source": [
    "i = 5\n",
    "\n",
    "# Lynch's code for the first voxel results in [550 x 2560] BOLD, meaning\n",
    "# that 550 voxels are within 20mm of the first voxel in our outer_voxel list.\n",
    "# Our cifti data are transposed, [2560 x 550], but otherwise identical.\n",
    "nearby_bold = bold_cifti.get_fdata()[:, distance_matrix[outer_voxel_indices[i], :] <= 20]\n",
    "\n",
    "# Average the signal from all nearby voxels into a single time series\n",
    "if nearby_bold.shape[1] > 1:\n",
    "    nearby_bold = np.mean(nearby_bold, axis=1)\n",
    "\n"
   ],
   "id": "bc1b9c8a2568294",
   "outputs": [],
   "execution_count": 75
  },
  {
   "metadata": {
    "ExecuteTime": {
     "end_time": "2025-01-12T03:58:35.775792Z",
     "start_time": "2025-01-12T03:58:35.745882Z"
    }
   },
   "cell_type": "code",
   "source": [
    "# We could use statsmodels or scikit-learn, but for a simple linear regression,\n",
    "# we'll just stick with numpy.\n",
    "# Regression outcome is this voxel's BOLD time series\n",
    "voxel_index = subcort_idx[outer_voxel_indices[i]]\n",
    "y = bold_cifti.get_fdata()[:, voxel_index]\n",
    "# Regression data are the surrounding voxels' BOLD time series, with an intercept\n",
    "# X = np.vstack([np.ones((1, len(nearby_bold))), nearby_bold.reshape(1, -1)])\n",
    "X = nearby_bold\n",
    "\n",
    "print(f\"y is shaped {y.shape}; X is shaped {nearby_bold.shape}\")"
   ],
   "id": "6ff62bc0f7101f97",
   "outputs": [
    {
     "name": "stdout",
     "output_type": "stream",
     "text": [
      "y is shaped (2560,); X is shaped (2560,)\n"
     ]
    }
   ],
   "execution_count": 76
  },
  {
   "metadata": {
    "ExecuteTime": {
     "end_time": "2025-01-12T04:03:35.225331Z",
     "start_time": "2025-01-12T04:03:35.195230Z"
    }
   },
   "cell_type": "code",
   "source": [
    "# scipy's linregress function adds a column of ones internally,\n",
    "# so we don't have to do it ourselves.\n",
    "results = stats.linregress(nearby_bold, y)\n",
    "predicted_y = results.intercept + results.slope * nearby_bold\n",
    "residuals = y - predicted_y\n",
    "\n",
    "print_array_summary(y, \"Original BOLD\")\n",
    "print_array_summary(nearby_bold, \"Regional average BOLD\")\n",
    "print_array_summary(residuals, \"Residualized BOLD\")\n"
   ],
   "id": "924d93b2dda8b9de",
   "outputs": [
    {
     "name": "stdout",
     "output_type": "stream",
     "text": [
      "Original BOLD is shaped (2560,):\n",
      "  [5.18, -36.65, -52.11, -5.04, -52.56, ..., 27.71, -10.79, -0.26, 45.62, 27.19]\n",
      "Regional average BOLD is shaped (2560,):\n",
      "  [-1.37, 9.72, 14.87, 19.99, 15.47, ..., -66.99, -69.48, -54.87, -28.57, -11.06]\n",
      "Residualized BOLD is shaped (2560,):\n",
      "  [4.98, -35.22, -49.92, -2.10, -50.28, ..., 17.85, -21.02, -8.34, 41.41, 25.56]\n"
     ]
    }
   ],
   "execution_count": 79
  },
  {
   "metadata": {},
   "cell_type": "markdown",
   "source": "Above is an example of the voxel-wise regression processing. Below is exactly the same thing within a loop that will regress surrounding signal from each voxel near cortex.",
   "id": "cbda1f6c7a1f4e92"
  },
  {
   "metadata": {
    "ExecuteTime": {
     "end_time": "2025-01-12T04:16:31.364664Z",
     "start_time": "2025-01-12T04:14:51.558930Z"
    }
   },
   "cell_type": "code",
   "source": [
    "adjusted_data = bold_cifti.get_fdata().copy()\n",
    "for cifti_locus_index in outer_voxel_indices:\n",
    "    # Extract all BOLD data within 20mm of this voxel\n",
    "    nearby_bold = bold_cifti.get_fdata()[:, distance_matrix[cifti_locus_index, :] <= 20]\n",
    "    if nearby_bold.shape[1] > 1:\n",
    "        nearby_bold = np.mean(nearby_bold, axis=1)\n",
    "\n",
    "    # Regress surrounding BOLD from this voxel's BOLD\n",
    "    voxel_index = subcort_idx[cifti_locus_index]\n",
    "    y = bold_cifti.get_fdata()[:, voxel_index]\n",
    "    results = stats.linregress(nearby_bold, y)\n",
    "    predicted_y = results.intercept + results.slope * nearby_bold\n",
    "    residuals = y - predicted_y\n",
    "\n",
    "    # Replace the BOLD data with residuals\n",
    "    adjusted_data[:, voxel_index] = residuals\n",
    "\n",
    "# We should now have a copy of the BOLD data,\n",
    "# with each voxel near cortex cleaned of surrounding signal\n"
   ],
   "id": "396fa2d5d69c11cf",
   "outputs": [],
   "execution_count": 81
  },
  {
   "metadata": {
    "ExecuteTime": {
     "end_time": "2025-01-12T04:19:20.053979Z",
     "start_time": "2025-01-12T04:19:11.700107Z"
    }
   },
   "cell_type": "code",
   "source": [
    "# The adjusted data need to be packaged into a new Cifti2 file,\n",
    "# just like the input file, and saved to disk.\n",
    "\n",
    "adjusted_img = nib.Cifti2Image(\n",
    "    adjusted_data, header=bold_cifti.header,\n",
    ")\n",
    "adjusted_img.to_filename(\n",
    "    save_to /\n",
    "    \"sub-ME01_task-rest_concatenated_demeaned_and_regressed_32k_fsLR.dtseries.nii\"\n",
    ")\n"
   ],
   "id": "e0d12436cfd41687",
   "outputs": [],
   "execution_count": 82
  },
  {
   "metadata": {},
   "cell_type": "code",
   "outputs": [],
   "execution_count": null,
   "source": "",
   "id": "f9067dffc1f00ddc"
  }
 ],
 "metadata": {
  "kernelspec": {
   "display_name": "Python 3",
   "language": "python",
   "name": "python3"
  },
  "language_info": {
   "codemirror_mode": {
    "name": "ipython",
    "version": 2
   },
   "file_extension": ".py",
   "mimetype": "text/x-python",
   "name": "python",
   "nbconvert_exporter": "python",
   "pygments_lexer": "ipython2",
   "version": "2.7.6"
  }
 },
 "nbformat": 4,
 "nbformat_minor": 5
}
