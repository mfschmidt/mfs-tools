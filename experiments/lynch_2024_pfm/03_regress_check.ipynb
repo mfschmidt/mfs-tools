{
 "cells": [
  {
   "cell_type": "code",
   "id": "initial_id",
   "metadata": {
    "collapsed": true,
    "ExecuteTime": {
     "end_time": "2025-01-12T16:19:25.283499Z",
     "start_time": "2025-01-12T16:19:25.242351Z"
    }
   },
   "source": [
    "%load_ext autoreload\n",
    "%autoreload 2\n",
    "\n",
    "from pathlib import Path\n",
    "import numpy as np\n",
    "import nibabel as nib\n",
    "from scipy import stats\n",
    "import h5py\n",
    "from datetime import datetime\n",
    "\n",
    "from mfs_tools.library.cifti_stuff import get_cortical_indices, get_subcortical_indices\n",
    "from mfs_tools.library.distance_stuff import regress_adjacent_cortex\n",
    "from mfs_tools.library.utility_stuff import compare_mats\n",
    "\n",
    "\n",
    "save_to = Path(\"/mnt/cache/pfm_python/\")\n",
    "reference_cifti_path = (\n",
    "    save_to /\n",
    "    \"sub-ME01_task-rest_concatenated_and_demeaned_32k_fsLR.dtseries.nii\"\n",
    ")\n",
    "distance_matrix_path = save_to / \"dist_complete.npy\"\n"
   ],
   "outputs": [
    {
     "name": "stdout",
     "output_type": "stream",
     "text": [
      "The autoreload extension is already loaded. To reload it, use:\n",
      "  %reload_ext autoreload\n"
     ]
    }
   ],
   "execution_count": 3
  },
  {
   "metadata": {
    "ExecuteTime": {
     "end_time": "2025-01-12T16:19:22.156088Z",
     "start_time": "2025-01-12T16:19:07.096051Z"
    }
   },
   "cell_type": "code",
   "source": [
    "# Load data\n",
    "bold_cifti = nib.Cifti2Image.from_filename(reference_cifti_path)\n",
    "distance_matrix = np.load(distance_matrix_path)\n"
   ],
   "id": "d9ec98771cb7b2ba",
   "outputs": [],
   "execution_count": 2
  },
  {
   "metadata": {
    "ExecuteTime": {
     "end_time": "2025-01-12T16:22:18.504758Z",
     "start_time": "2025-01-12T16:20:06.990159Z"
    }
   },
   "cell_type": "code",
   "source": [
    "# The whole notebook in a few lines, with some help from the library\n",
    "\n",
    "print(datetime.now())\n",
    "adjusted_img = regress_adjacent_cortex(\n",
    "    bold_cifti, distance_matrix, distance_threshold=20, verbose=True\n",
    ")\n",
    "print(datetime.now())\n",
    "adjusted_img.to_filename(\n",
    "    save_to /\n",
    "    \"sub-ME01_task-rest_concatenated_demeaned_and_regressed_32k_fsLR.dtseries.nii\"\n",
    ")\n",
    "print(datetime.now())\n"
   ],
   "id": "a353ac5ce7848c52",
   "outputs": [
    {
     "name": "stdout",
     "output_type": "stream",
     "text": [
      "2025-01-12 11:20:07.017480\n",
      "Filtered distance matrix down to 25,647 sub-cortical voxels by 59,412 cortical vertices\n",
      "Found 19,137 voxels within 20mm of a cortical vertex.\n",
      "Adjustments to 19,137 subcortical voxels near cortex complete. New Cifti2 image (2560, 85059).\n",
      "2025-01-12 11:22:09.268434\n",
      "2025-01-12 11:22:18.500896\n"
     ]
    }
   ],
   "execution_count": 4
  },
  {
   "metadata": {},
   "cell_type": "markdown",
   "source": [
    "The above code is all that's necessary to just run the regression function\n",
    "from the library. You can do that here, and it's done. The next few cells\n",
    "compare these results from the same step in Lynch's matlab code. The rest of\n",
    "this notebook is simply spelling out th `regress_adjacent_cortex` function."
   ],
   "id": "8e61b503d21ee146"
  },
  {
   "metadata": {
    "ExecuteTime": {
     "end_time": "2025-01-12T16:42:22.335309Z",
     "start_time": "2025-01-12T16:39:08.192415Z"
    }
   },
   "cell_type": "code",
   "source": [
    "# Were the inputs the same as those in the matlab version?\n",
    "# Load matlab versions of each matrix\n",
    "ml_base_path = Path(\"/mnt/cache/pfm_matlab/\")\n",
    "ml_bold_cifti_file = ml_base_path / reference_cifti_path.name\n",
    "ml_bold_cifti_img = nib.Cifti2Image.from_filename(ml_bold_cifti_file)\n",
    "\n",
    "ml_distance_file = ml_base_path / \"DistanceMatrix.mat\"\n",
    "ml_distance_dict = h5py.File(ml_distance_file, 'r')\n",
    "ml_distance_matrix = np.array(ml_distance_dict.get('D'), dtype=np.uint8)"
   ],
   "id": "e322f7c71da5361d",
   "outputs": [],
   "execution_count": 7
  },
  {
   "metadata": {
    "ExecuteTime": {
     "end_time": "2025-01-12T16:42:22.997528Z",
     "start_time": "2025-01-12T16:42:22.458534Z"
    }
   },
   "cell_type": "code",
   "source": [
    "\n",
    "ml_adjusted_file = ml_base_path / \"sub-ME01_task-rest_concatenated_demeaned_and_regressed_32k_fsLR.dtseries.nii\"\n",
    "ml_adjusted_img = nib.Cifti2Image.from_filename(ml_adjusted_file)\n"
   ],
   "id": "9d17f847c47a281b",
   "outputs": [],
   "execution_count": 8
  },
  {
   "metadata": {
    "ExecuteTime": {
     "end_time": "2025-01-12T17:40:23.797245Z",
     "start_time": "2025-01-12T17:40:14.094925Z"
    }
   },
   "cell_type": "code",
   "source": [
    "# Are the output BOLD data the same?\n",
    "# **THIS IS THE ONLY TEST THAT REALLY MATTERS FOR THIS NOTEBOOK**\n",
    "# Note the tolerance. There are differences, probably due to float\n",
    "# encoding or minor regression fitting between matlab and python.\n",
    "# These differences exist beyond the fifth decimal point, but for\n",
    "# this, we don't really care about that. If BOLD values match to\n",
    "# the hundred-thousandth place, that's way more than close enough for us.\n",
    "compare_mats(ml_adjusted_img.get_fdata(), adjusted_img.get_fdata(),\n",
    "             a_name=\"matlab adj BOLD\", b_name=\"python adj BOLD\",\n",
    "             tolerance=0.00001, verbose=True, preview=True)\n"
   ],
   "id": "79dc16f7b7f13e99",
   "outputs": [
    {
     "name": "stdout",
     "output_type": "stream",
     "text": [
      "\u001B[1;32m  The matrices 'matlab adj BOLD' and 'python adj BOLD' are equal, with tolerance of 1e-05.\u001B[0m\n",
      "  Mem before 25,182.0MB; Mem after 25,182.0MB; delta 0.0\n"
     ]
    },
    {
     "data": {
      "text/plain": [
       "True"
      ]
     },
     "execution_count": 27,
     "metadata": {},
     "output_type": "execute_result"
    }
   ],
   "execution_count": 27
  },
  {
   "metadata": {
    "ExecuteTime": {
     "end_time": "2025-01-12T17:10:47.212939Z",
     "start_time": "2025-01-12T17:10:38.673656Z"
    }
   },
   "cell_type": "code",
   "outputs": [
    {
     "name": "stdout",
     "output_type": "stream",
     "text": [
      "\u001B[1;32m  The matrices 'matlab BOLD' and 'python BOLD' are equal.\u001B[0m\n",
      "  Mem before 21,831.1MB; Mem after 21,831.1MB; delta 0.0\n"
     ]
    },
    {
     "data": {
      "text/plain": [
       "True"
      ]
     },
     "execution_count": 16,
     "metadata": {},
     "output_type": "execute_result"
    }
   ],
   "execution_count": 16,
   "source": [
    "# Are the input BOLD data the same?\n",
    "compare_mats(ml_bold_cifti_img.get_fdata(), bold_cifti.get_fdata(),\n",
    "             a_name=\"matlab BOLD\", b_name=\"python BOLD\",\n",
    "             verbose=True, preview=True)\n"
   ],
   "id": "6faf9ad97ec0f2f5"
  },
  {
   "metadata": {
    "ExecuteTime": {
     "end_time": "2025-01-12T17:59:13.419350Z",
     "start_time": "2025-01-12T17:49:22.477192Z"
    }
   },
   "cell_type": "code",
   "source": [
    "# Are the distance matrices the same?\n",
    "# These things are so damn huge, we need to compare them in pieces.\n",
    "# Also, we already did these comparisons in the distance notebook,\n",
    "# so we know they're going to have 1mm differences we can't do\n",
    "# anything about. But that's fine. It's good to check everything\n",
    "# twice while debugging and rule out stupid typos and errors.\n",
    "ctx_idx = get_cortical_indices(ml_bold_cifti_img)\n",
    "subcort_idx = get_subcortical_indices(ml_bold_cifti_img)\n",
    "for row_idx, col_idx, desc in [\n",
    "    (ctx_idx, ctx_idx, \"ctx-ctx\"),\n",
    "    (subcort_idx, ctx_idx, \"subcort-ctx\"),\n",
    "    (ctx_idx, subcort_idx, \"ctx-subcort\"),\n",
    "    (subcort_idx, subcort_idx, \"subcort-subcort\"),\n",
    "]:\n",
    "    compare_mats(\n",
    "        ml_distance_matrix[row_idx, :][:, col_idx],\n",
    "        distance_matrix[row_idx, :][:, col_idx],\n",
    "        a_name=f\"matlab {desc} distance\",\n",
    "        b_name=f\"python {desc} distance\",\n",
    "        verbose=True, preview=True)\n"
   ],
   "id": "7da3043fd571e25",
   "outputs": [
    {
     "name": "stdout",
     "output_type": "stream",
     "text": [
      "  There are mismatches between 'matlab ctx-ctx distance' (uint8)  and 'python ctx-ctx distance' (uint8).\n",
      "  Top left corners, for a small preview:\n",
      "|    0.0000,  67.0000, 136.0000,  93.0000, 111.0000 |    |    0.0000,  67.0000, 136.0000,  93.0000, 111.0000 |\n",
      "|   67.0000,   0.0000,  84.0000, 104.0000, 110.0000 |    |   67.0000,   0.0000,  84.0000, 104.0000, 110.0000 |\n",
      "|  136.0000,  84.0000,   0.0000,  89.0000, 174.0000 | vs |  136.0000,  84.0000,   0.0000,  89.0000, 174.0000 |\n",
      "|   93.0000, 104.0000,  89.0000,   0.0000, 200.0000 |    |   93.0000, 104.0000,  89.0000,   0.0000, 200.0000 |\n",
      "|  111.0000, 110.0000, 174.0000, 200.0000,   0.0000 |    |  111.0000, 110.0000, 174.0000, 200.0000,   0.0000 |\n",
      "\u001B[1;32m  Only 1 in 120308 values differ (14,670 of 1,764,922,578). \u001B[0m\n",
      "\u001B[0;31m  The largest difference is 1.0 == 1.000000000 \u001B[0m\n",
      "  Mem before 35,279.9MB; Mem after 36,963.0MB; delta 1,683.2\n",
      "  There are mismatches between 'matlab subcort-ctx distance' (uint8)  and 'python subcort-ctx distance' (uint8).\n",
      "  Top left corners, for a small preview:\n",
      "|   64.0000,  91.0000,  66.0000,  65.0000, 112.0000 |    |   64.0000,  91.0000,  66.0000,  65.0000, 112.0000 |\n",
      "|   65.0000,  91.0000,  65.0000,  65.0000, 112.0000 |    |   65.0000,  91.0000,  65.0000,  65.0000, 112.0000 |\n",
      "|   66.0000,  92.0000,  67.0000,  65.0000, 114.0000 | vs |   66.0000,  92.0000,  67.0000,  65.0000, 114.0000 |\n",
      "|   66.0000,  92.0000,  66.0000,  65.0000, 114.0000 |    |   66.0000,  92.0000,  66.0000,  65.0000, 114.0000 |\n",
      "|   62.0000,  88.0000,  64.0000,  63.0000, 110.0000 |    |   62.0000,  88.0000,  64.0000,  63.0000, 110.0000 |\n",
      "\u001B[1;32m  Only 1 in 302851 values differ (1,086 of 328,897,128). \u001B[0m\n",
      "\u001B[0;31m  The largest difference is 1.0 == 1.000000000 \u001B[0m\n",
      "  Mem before 31,453.6MB; Mem after 31,453.6MB; delta 0.0\n",
      "  There are mismatches between 'matlab ctx-subcort distance' (uint8)  and 'python ctx-subcort distance' (uint8).\n",
      "  Top left corners, for a small preview:\n",
      "|   64.0000,  65.0000,  66.0000,  66.0000,  62.0000 |    |   64.0000,  65.0000,  66.0000,  66.0000,  62.0000 |\n",
      "|   91.0000,  91.0000,  92.0000,  92.0000,  88.0000 |    |   91.0000,  91.0000,  92.0000,  92.0000,  88.0000 |\n",
      "|   66.0000,  65.0000,  67.0000,  66.0000,  64.0000 | vs |   66.0000,  65.0000,  67.0000,  66.0000,  64.0000 |\n",
      "|   65.0000,  65.0000,  65.0000,  65.0000,  63.0000 |    |   65.0000,  65.0000,  65.0000,  65.0000,  63.0000 |\n",
      "|  112.0000, 112.0000, 114.0000, 114.0000, 110.0000 |    |  112.0000, 112.0000, 114.0000, 114.0000, 110.0000 |\n",
      "\u001B[1;32m  Only 1 in 281542 values differ (4,244 of 1,194,868,083). \u001B[0m\n",
      "\u001B[0;31m  The largest difference is 1.0 == 1.000000000 \u001B[0m\n",
      "  Mem before 31,453.6MB; Mem after 32,593.1MB; delta 1,139.5\n",
      "\u001B[1;32m  The matrices 'matlab subcort-subcort distance' and 'python subcort-subcort distance' are equal, with tolerance of 1e-05.\u001B[0m\n",
      "  Mem before 29,174.6MB; Mem after 29,174.6MB; delta 0.0\n"
     ]
    }
   ],
   "execution_count": 30
  },
  {
   "metadata": {},
   "cell_type": "markdown",
   "source": [
    "----\n",
    "\n",
    "The remainder of this notebook just re-implements the `regress_adjacent_cortex`\n",
    "function one piece at a time.\n",
    "\n",
    "----"
   ],
   "id": "7601e07c8bb97747"
  },
  {
   "metadata": {
    "ExecuteTime": {
     "end_time": "2025-01-12T02:44:41.137984Z",
     "start_time": "2025-01-12T02:44:35.108Z"
    }
   },
   "cell_type": "code",
   "source": [
    "# Only calculate distance to real cortical vertices that may get used.\n",
    "cort_idx = get_cortical_indices(bold_cifti)\n",
    "subcort_idx = get_subcortical_indices(bold_cifti)\n",
    "relevant_distances = distance_matrix[subcort_idx, :][:, cort_idx]\n"
   ],
   "id": "5a0762cd2a37a835",
   "outputs": [],
   "execution_count": 40
  },
  {
   "metadata": {
    "ExecuteTime": {
     "end_time": "2025-01-12T02:45:44.489506Z",
     "start_time": "2025-01-12T02:45:44.467289Z"
    }
   },
   "cell_type": "code",
   "source": [
    "print(f\"Filtered distance matrix down to {relevant_distances.shape[0]:,} \"\n",
    "      f\"sub-cortical voxels by {relevant_distances.shape[1]:,} \"\n",
    "      f\"cortical vertices\")\n"
   ],
   "id": "3c1db6b0a3d2232a",
   "outputs": [
    {
     "name": "stdout",
     "output_type": "stream",
     "text": [
      "Filtered distance matrix down to 25,647 sub-cortical voxels by 59,412 cortical vertices\n"
     ]
    }
   ],
   "execution_count": 41
  },
  {
   "metadata": {
    "ExecuteTime": {
     "end_time": "2025-01-12T04:06:34.602952Z",
     "start_time": "2025-01-12T04:06:34.405824Z"
    }
   },
   "cell_type": "code",
   "source": [
    "# Determine which subcortical voxels are within 20mm of a cortical vertex.\n",
    "smallest_distances = np.min(relevant_distances, axis=1)\n",
    "outer_voxel_indices = np.where(smallest_distances <= 20)[0]\n"
   ],
   "id": "ea7a487811f08d7c",
   "outputs": [],
   "execution_count": 80
  },
  {
   "metadata": {},
   "cell_type": "markdown",
   "source": [
    "This generates a list of 19,137 voxels within 20mm of a cortical vertex.\n",
    "This is exactly the same as the 19,137 voxels in Lynch's matlab code/data.\n",
    "Next, we loop over each voxel near cortex, extract the BOLD from all\n",
    "voxels within the 20mm threshold, and regress the cortical BOLD signal\n",
    "from it."
   ],
   "id": "649168e7263e7910"
  },
  {
   "metadata": {
    "ExecuteTime": {
     "end_time": "2025-01-12T04:02:21.657388Z",
     "start_time": "2025-01-12T04:02:21.628825Z"
    }
   },
   "cell_type": "code",
   "source": [
    "def print_array_summary(a, desc):\n",
    "    print(f\"{desc} is shaped {a.shape}:\")\n",
    "    print(\"  [\" + \"\".join(\n",
    "        [\", \".join([f\"{v:0.2f}\" for v in a[:5]])] +\n",
    "        [\", ..., \"] +\n",
    "        [\", \".join([f\"{v:0.2f}\" for v in a[-5:]])]\n",
    "    ) + \"]\")\n"
   ],
   "id": "6214277d714a2195",
   "outputs": [],
   "execution_count": 78
  },
  {
   "metadata": {
    "ExecuteTime": {
     "end_time": "2025-01-12T03:58:34.338251Z",
     "start_time": "2025-01-12T03:58:34.297529Z"
    }
   },
   "cell_type": "code",
   "source": [
    "i = 5\n",
    "\n",
    "# Lynch's code for the first voxel results in [550 x 2560] BOLD, meaning\n",
    "# that 550 voxels are within 20mm of the first voxel in our outer_voxel list.\n",
    "# Our cifti data are transposed, [2560 x 550], but otherwise identical.\n",
    "nearby_bold = bold_cifti.get_fdata()[:, distance_matrix[outer_voxel_indices[i], :] <= 20]\n",
    "\n",
    "# Average the signal from all nearby voxels into a single time series\n",
    "if nearby_bold.shape[1] > 1:\n",
    "    nearby_bold = np.mean(nearby_bold, axis=1)\n",
    "\n"
   ],
   "id": "bc1b9c8a2568294",
   "outputs": [],
   "execution_count": 75
  },
  {
   "metadata": {
    "ExecuteTime": {
     "end_time": "2025-01-12T03:58:35.775792Z",
     "start_time": "2025-01-12T03:58:35.745882Z"
    }
   },
   "cell_type": "code",
   "source": [
    "# We could use statsmodels or scikit-learn, but for a simple linear regression,\n",
    "# we'll just stick with numpy.\n",
    "# Regression outcome is this voxel's BOLD time series\n",
    "voxel_index = subcort_idx[outer_voxel_indices[i]]\n",
    "y = bold_cifti.get_fdata()[:, voxel_index]\n",
    "# Regression data are the surrounding voxels' BOLD time series, with an intercept\n",
    "# X = np.vstack([np.ones((1, len(nearby_bold))), nearby_bold.reshape(1, -1)])\n",
    "X = nearby_bold\n",
    "\n",
    "print(f\"y is shaped {y.shape}; X is shaped {nearby_bold.shape}\")"
   ],
   "id": "6ff62bc0f7101f97",
   "outputs": [
    {
     "name": "stdout",
     "output_type": "stream",
     "text": [
      "y is shaped (2560,); X is shaped (2560,)\n"
     ]
    }
   ],
   "execution_count": 76
  },
  {
   "metadata": {
    "ExecuteTime": {
     "end_time": "2025-01-12T04:03:35.225331Z",
     "start_time": "2025-01-12T04:03:35.195230Z"
    }
   },
   "cell_type": "code",
   "source": [
    "# scipy's linregress function adds a column of ones internally,\n",
    "# so we don't have to do it ourselves.\n",
    "results = stats.linregress(nearby_bold, y)\n",
    "predicted_y = results.intercept + results.slope * nearby_bold\n",
    "residuals = y - predicted_y\n",
    "\n",
    "print_array_summary(y, \"Original BOLD\")\n",
    "print_array_summary(nearby_bold, \"Regional average BOLD\")\n",
    "print_array_summary(residuals, \"Residualized BOLD\")\n"
   ],
   "id": "924d93b2dda8b9de",
   "outputs": [
    {
     "name": "stdout",
     "output_type": "stream",
     "text": [
      "Original BOLD is shaped (2560,):\n",
      "  [5.18, -36.65, -52.11, -5.04, -52.56, ..., 27.71, -10.79, -0.26, 45.62, 27.19]\n",
      "Regional average BOLD is shaped (2560,):\n",
      "  [-1.37, 9.72, 14.87, 19.99, 15.47, ..., -66.99, -69.48, -54.87, -28.57, -11.06]\n",
      "Residualized BOLD is shaped (2560,):\n",
      "  [4.98, -35.22, -49.92, -2.10, -50.28, ..., 17.85, -21.02, -8.34, 41.41, 25.56]\n"
     ]
    }
   ],
   "execution_count": 79
  },
  {
   "metadata": {},
   "cell_type": "markdown",
   "source": "Above is an example of the voxel-wise regression processing. Below is exactly the same thing within a loop that will regress surrounding signal from each voxel near cortex.",
   "id": "cbda1f6c7a1f4e92"
  },
  {
   "metadata": {
    "ExecuteTime": {
     "end_time": "2025-01-12T04:16:31.364664Z",
     "start_time": "2025-01-12T04:14:51.558930Z"
    }
   },
   "cell_type": "code",
   "source": [
    "adjusted_data = bold_cifti.get_fdata().copy()\n",
    "for cifti_locus_index in outer_voxel_indices:\n",
    "    # Extract all BOLD data within 20mm of this voxel\n",
    "    nearby_bold = bold_cifti.get_fdata()[:, distance_matrix[cifti_locus_index, :] <= 20]\n",
    "    if nearby_bold.shape[1] > 1:\n",
    "        nearby_bold = np.mean(nearby_bold, axis=1)\n",
    "\n",
    "    # Regress surrounding BOLD from this voxel's BOLD\n",
    "    voxel_index = subcort_idx[cifti_locus_index]\n",
    "    y = bold_cifti.get_fdata()[:, voxel_index]\n",
    "    results = stats.linregress(nearby_bold, y)\n",
    "    predicted_y = results.intercept + results.slope * nearby_bold\n",
    "    residuals = y - predicted_y\n",
    "\n",
    "    # Replace the BOLD data with residuals\n",
    "    adjusted_data[:, voxel_index] = residuals\n",
    "\n",
    "# We should now have a copy of the BOLD data,\n",
    "# with each voxel near cortex cleaned of surrounding signal\n"
   ],
   "id": "396fa2d5d69c11cf",
   "outputs": [],
   "execution_count": 81
  },
  {
   "metadata": {
    "ExecuteTime": {
     "end_time": "2025-01-12T04:19:20.053979Z",
     "start_time": "2025-01-12T04:19:11.700107Z"
    }
   },
   "cell_type": "code",
   "source": [
    "# The adjusted data need to be packaged into a new Cifti2 file,\n",
    "# just like the input file, and saved to disk.\n",
    "\n",
    "adjusted_img = nib.Cifti2Image(\n",
    "    adjusted_data, header=bold_cifti.header,\n",
    ")\n",
    "adjusted_img.to_filename(\n",
    "    save_to /\n",
    "    \"sub-ME01_task-rest_concatenated_demeaned_and_regressed_32k_fsLR.dtseries.nii\"\n",
    ")\n"
   ],
   "id": "e0d12436cfd41687",
   "outputs": [],
   "execution_count": 82
  },
  {
   "metadata": {},
   "cell_type": "code",
   "outputs": [],
   "execution_count": null,
   "source": "",
   "id": "f9067dffc1f00ddc"
  }
 ],
 "metadata": {
  "kernelspec": {
   "display_name": "Python 3",
   "language": "python",
   "name": "python3"
  },
  "language_info": {
   "codemirror_mode": {
    "name": "ipython",
    "version": 2
   },
   "file_extension": ".py",
   "mimetype": "text/x-python",
   "name": "python",
   "nbconvert_exporter": "python",
   "pygments_lexer": "ipython2",
   "version": "2.7.6"
  }
 },
 "nbformat": 4,
 "nbformat_minor": 5
}
