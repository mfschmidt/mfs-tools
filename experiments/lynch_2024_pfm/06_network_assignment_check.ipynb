{
 "cells": [
  {
   "cell_type": "code",
   "id": "initial_id",
   "metadata": {
    "collapsed": true,
    "ExecuteTime": {
     "end_time": "2025-03-02T17:16:03.935043Z",
     "start_time": "2025-03-02T17:16:02.907002Z"
    }
   },
   "source": [
    "%load_ext autoreload\n",
    "%autoreload 2\n",
    "\n",
    "from pathlib import Path\n",
    "import numpy as np\n",
    "import pandas as pd\n",
    "import nibabel as nib\n",
    "from datetime import datetime\n",
    "\n",
    "from mfs_tools.library.clustering_stuff import identify_networks\n",
    "\n",
    "save_to = Path(\"/mnt/cache/pfm_python\")\n",
    "ml_base_path = Path(\"/mnt/cache/pfm_matlab\")\n",
    "python_cifti_path = (\n",
    "    save_to /\n",
    "    \"sub-ME01_task-rest_concatenated_demeaned_regressed_and_smoothed-2.55_32k_fsLR.dtseries.nii\"\n",
    ")\n",
    "matlab_cifti_path = (\n",
    "    ml_base_path /\n",
    "    \"sub-ME01_task-rest_concatenated_demeaned_regressed_and_smoothed-2.55_32k_fsLR.dtseries.nii\"\n",
    ")\n",
    "surface_files = {\n",
    "    'lh': Path(\n",
    "        \"/mnt/brunodata/open_data/ds005118/derivatives/sub-ME01/fs_LR/fsaverage_LR32k\"\n",
    "        \"/ME01.L.midthickness.32k_fs_LR.surf.gii\"\n",
    "    ),\n",
    "    'rh': Path(\n",
    "        \"/mnt/brunodata/open_data/ds005118/derivatives/sub-ME01/fs_LR/fsaverage_LR32k\"\n",
    "        \"/ME01.R.midthickness.32k_fs_LR.surf.gii\"\n",
    "    ),\n",
    "}\n",
    "python_distance_matrix_path = save_to / \"dist_complete.npy\"\n",
    "matlab_distance_matrix_path = ml_base_path / \"DistanceMatrix.mat\"\n",
    "\n",
    "work_dir = Path(\"/mnt/cache/pfm_python/naming_work\")\n",
    "work_dir.mkdir(exist_ok=True, parents=True)\n",
    "\n",
    "for p in (\n",
    "    save_to, ml_base_path, python_cifti_path, matlab_cifti_path,\n",
    "    surface_files['lh'], surface_files['rh'],\n",
    "    python_distance_matrix_path, matlab_distance_matrix_path,\n",
    "    work_dir,\n",
    "):\n",
    "    if not p.exists():\n",
    "        print(f\"File '{str(p)}' does not exist.\")\n",
    "\n",
    "#  5.5 to 5.7GB RAM"
   ],
   "outputs": [],
   "execution_count": 1
  },
  {
   "metadata": {
    "ExecuteTime": {
     "end_time": "2025-03-05T00:24:56.839487Z",
     "start_time": "2025-03-05T00:24:56.701508Z"
    }
   },
   "cell_type": "code",
   "source": [
    "from mfs_tools.library.file_stuff import load_lynch_network_priors\n",
    "\n",
    "priors = load_lynch_network_priors(ml_base_path / \"priors.mat\")\n"
   ],
   "id": "99c1b1916c81018f",
   "outputs": [],
   "execution_count": 194
  },
  {
   "metadata": {
    "ExecuteTime": {
     "end_time": "2025-03-02T17:45:03.837934Z",
     "start_time": "2025-03-02T17:45:03.380189Z"
    }
   },
   "cell_type": "code",
   "source": [
    "# Use the matlab-generated file to assure most-valid comparisons while debugging\n",
    "bold_image = nib.cifti2.Cifti2Image.from_filename(\n",
    "    matlab_cifti_path\n",
    ")"
   ],
   "id": "dbdd1500513e8c2c",
   "outputs": [],
   "execution_count": 19
  },
  {
   "metadata": {
    "ExecuteTime": {
     "end_time": "2025-03-03T02:11:24.594875Z",
     "start_time": "2025-03-03T02:11:24.239806Z"
    }
   },
   "cell_type": "code",
   "source": [
    "# Load the matlab-generated network atlases\n",
    "row = 5  # indicating the 0.01 threshold, per Lynch tutorial code\n",
    "all_community_labels = nib.cifti2.Cifti2Image.from_filename(\n",
    "    ml_base_path / \"Bipartite_PhysicalCommunities+SpatialFiltering.dtseries.nii\"\n",
    ").get_fdata()\n",
    "for i in range(all_community_labels.shape[0]):\n",
    "    print(f\"row {i}. {len(np.unique(all_community_labels[i, :]))} unique labels \")\n",
    "community_labels = all_community_labels[row, :]\n"
   ],
   "id": "2328286f1ac5631b",
   "outputs": [
    {
     "name": "stdout",
     "output_type": "stream",
     "text": [
      "row 0. 8 unique labels \n",
      "row 1. 14 unique labels \n",
      "row 2. 3 unique labels \n",
      "row 3. 4 unique labels \n",
      "row 4. 6 unique labels \n",
      "row 5. 7 unique labels \n",
      "row 6. 9 unique labels \n",
      "row 7. 14 unique labels \n",
      "row 8. 22 unique labels \n"
     ]
    }
   ],
   "execution_count": 83
  },
  {
   "metadata": {},
   "cell_type": "code",
   "outputs": [],
   "execution_count": null,
   "source": [
    "print(datetime.now())\n",
    "\n",
    "out_file = \"Bipartite_PhysicalCommunities+AlgorithmicLabeling\"\n",
    "\n",
    "identify_networks(\n",
    "    bold_image,\n",
    "    community_labels,\n",
    "    surface_files,\n",
    "    priors,\n",
    "    save_to / out_file,\n",
    "    save_to,\n",
    "    verbose=True,\n",
    ")\n",
    "\n",
    "print(datetime.now())\n"
   ],
   "id": "9b090b02754f346f"
  },
  {
   "metadata": {
    "ExecuteTime": {
     "end_time": "2025-03-02T17:48:16.347264Z",
     "start_time": "2025-03-02T17:48:16.173546Z"
    }
   },
   "cell_type": "code",
   "source": [
    "import numpy as np\n",
    "from mfs_tools.library.cifti_stuff import get_brain_model_axes\n",
    "brain_axis = get_brain_model_axes(bold_image)\n",
    "num_lh_ctx_vertices = np.sum(brain_axis.name == 'CIFTI_STRUCTURE_CORTEX_LEFT')\n",
    "num_rh_ctx_vertices = np.sum(brain_axis.name == 'CIFTI_STRUCTURE_CORTEX_RIGHT')\n",
    "print(f\"{num_lh_ctx_vertices:,} on the left, \"\n",
    "      f\"{num_rh_ctx_vertices:,} on the right, \"\n",
    "      f\"{num_lh_ctx_vertices + num_rh_ctx_vertices:,} total\")\n"
   ],
   "id": "d5a4685eaf829b1",
   "outputs": [
    {
     "name": "stdout",
     "output_type": "stream",
     "text": [
      "29,696 on the left, 29,716 on the right, 59,412 total\n"
     ]
    }
   ],
   "execution_count": 24
  },
  {
   "metadata": {
    "ExecuteTime": {
     "end_time": "2025-03-02T17:57:33.402889Z",
     "start_time": "2025-03-02T17:54:21.531008Z"
    }
   },
   "cell_type": "code",
   "source": [
    "from mfs_tools.library.utility_stuff import correlate_bold\n",
    "from mfs_tools.library.cifti_stuff import get_cortical_data, get_cortical_indices\n",
    "\n",
    "cortical_bold_data = get_cortical_data(bold_image)\n",
    "\n",
    "# Re-calculate the functional connectivity of the BOLD data\n",
    "bold_conn = correlate_bold(cortical_bold_data)\n"
   ],
   "id": "34712afc45b30ba5",
   "outputs": [
    {
     "name": "stdout",
     "output_type": "stream",
     "text": [
      "Overall, correlation took 186s\n"
     ]
    }
   ],
   "execution_count": 25
  },
  {
   "metadata": {
    "ExecuteTime": {
     "end_time": "2025-03-02T18:01:50.845184Z",
     "start_time": "2025-03-02T18:01:50.802562Z"
    }
   },
   "cell_type": "code",
   "source": [
    "# Set the diagonal to zero\n",
    "print(\"Before:\")\n",
    "print(bold_conn[:6, :6])\n",
    "np.fill_diagonal(bold_conn, 0.0)\n",
    "print(\"Before:\")\n",
    "print(bold_conn[:6, :6])\n"
   ],
   "id": "cdcdb1de08a9fb95",
   "outputs": [
    {
     "name": "stdout",
     "output_type": "stream",
     "text": [
      "[[ 1.         -0.299042   -0.3979341   0.20764178 -0.13085835  0.28747034]\n",
      " [-0.299042    1.          0.32043928 -0.13593309 -0.06234431 -0.27903906]\n",
      " [-0.3979341   0.32043928  1.         -0.15161821  0.12133919 -0.21502851]\n",
      " [ 0.20764178 -0.13593309 -0.15161821  1.         -0.14658588  0.32262427]\n",
      " [-0.13085835 -0.06234431  0.12133919 -0.14658588  1.         -0.3850531 ]\n",
      " [ 0.28747034 -0.27903906 -0.21502851  0.32262427 -0.3850531   1.        ]]\n",
      "[[ 0.         -0.299042   -0.3979341   0.20764178 -0.13085835  0.28747034]\n",
      " [-0.299042    0.          0.32043928 -0.13593309 -0.06234431 -0.27903906]\n",
      " [-0.3979341   0.32043928  0.         -0.15161821  0.12133919 -0.21502851]\n",
      " [ 0.20764178 -0.13593309 -0.15161821  0.         -0.14658588  0.32262427]\n",
      " [-0.13085835 -0.06234431  0.12133919 -0.14658588  0.         -0.3850531 ]\n",
      " [ 0.28747034 -0.27903906 -0.21502851  0.32262427 -0.3850531   0.        ]]\n"
     ]
    }
   ],
   "execution_count": 27
  },
  {
   "metadata": {
    "ExecuteTime": {
     "end_time": "2025-03-02T18:02:33.488805Z",
     "start_time": "2025-03-02T18:02:20.401859Z"
    }
   },
   "cell_type": "code",
   "source": [
    "# Remove any NaN values\n",
    "num_nans_before = np.sum(np.isnan(bold_conn))\n",
    "bold_conn[np.isnan(bold_conn)] = 0.0\n",
    "num_nans_after = np.sum(np.isnan(bold_conn))\n",
    "print(f\"Removed {num_nans_before - num_nans_after:,} of {num_nans_before} NaNs\")\n"
   ],
   "id": "16874bac152e566",
   "outputs": [
    {
     "name": "stdout",
     "output_type": "stream",
     "text": [
      "Removed 0 of 0 NaNs\n"
     ]
    }
   ],
   "execution_count": 28
  },
  {
   "metadata": {
    "ExecuteTime": {
     "end_time": "2025-03-03T03:14:01.114479Z",
     "start_time": "2025-03-03T03:14:01.068851Z"
    }
   },
   "cell_type": "code",
   "source": [
    "# Explore the infomap-generated communities\n",
    "unique_community_labels = [\n",
    "    int(lbl) for lbl in np.unique(community_labels)\n",
    "    if int(lbl) != 0\n",
    "]\n",
    "print(f\"Community labels: {unique_community_labels}\")\n"
   ],
   "id": "bbbd333d8df2c489",
   "outputs": [
    {
     "name": "stdout",
     "output_type": "stream",
     "text": [
      "Community labels: [1, 2, 3, 4, 5, 6]\n"
     ]
    }
   ],
   "execution_count": 84
  },
  {
   "metadata": {
    "ExecuteTime": {
     "end_time": "2025-03-02T18:22:10.745799Z",
     "start_time": "2025-03-02T18:22:10.499281Z"
    }
   },
   "cell_type": "code",
   "source": "ctx_idx = get_cortical_indices(bold_image)",
   "id": "d540c6aa8525b6e5",
   "outputs": [],
   "execution_count": 37
  },
  {
   "metadata": {
    "ExecuteTime": {
     "end_time": "2025-03-03T03:14:12.992152Z",
     "start_time": "2025-03-03T03:14:12.970510Z"
    }
   },
   "cell_type": "code",
   "source": [
    "new_conn = np.zeros(\n",
    "    (num_lh_ctx_vertices + num_rh_ctx_vertices,\n",
    "     len(unique_community_labels)),\n",
    "    dtype=np.float32\n",
    ")\n"
   ],
   "id": "c220fbe61d268b97",
   "outputs": [],
   "execution_count": 85
  },
  {
   "metadata": {
    "ExecuteTime": {
     "end_time": "2025-03-03T03:15:49.445943Z",
     "start_time": "2025-03-03T03:14:27.174534Z"
    }
   },
   "cell_type": "code",
   "source": [
    "for i, lbl in enumerate(unique_community_labels):\n",
    "    print(f\"Averaging label {lbl} connectivity at {datetime.now()}...\")\n",
    "    new_conn[:, i] = np.mean(\n",
    "        bold_conn[:, community_labels[ctx_idx] == lbl],\n",
    "        axis=1\n",
    "    )\n"
   ],
   "id": "599ea133fb9bcf53",
   "outputs": [
    {
     "name": "stdout",
     "output_type": "stream",
     "text": [
      "Averaging label 1 connectivity at 2025-03-02 22:14:27.197492...\n",
      "Averaging label 2 connectivity at 2025-03-02 22:15:03.889744...\n",
      "Averaging label 3 connectivity at 2025-03-02 22:15:18.306676...\n",
      "Averaging label 4 connectivity at 2025-03-02 22:15:29.674022...\n",
      "Averaging label 5 connectivity at 2025-03-02 22:15:39.025542...\n",
      "Averaging label 6 connectivity at 2025-03-02 22:15:45.543202...\n"
     ]
    }
   ],
   "execution_count": 86
  },
  {
   "metadata": {
    "ExecuteTime": {
     "end_time": "2025-03-03T03:17:17.220150Z",
     "start_time": "2025-03-03T03:17:17.159991Z"
    }
   },
   "cell_type": "code",
   "source": [
    "# From a [59412 x 6] new_conn and a [59412 x 20] prior_fc,\n",
    "# We'd like an [6 x 20] connectivity matrix\n",
    "# corrcoef is row-wise, so we transpose the matrices.\n",
    "rmat = np.corrcoef(new_conn.T, priors.fc.T)[:new_conn.shape[1], new_conn.shape[1]:]\n",
    "np.save(save_to / f\"functional_sim_{row:02d}.npy\", rmat)\n"
   ],
   "id": "e2639bd94f1cbfd",
   "outputs": [],
   "execution_count": 89
  },
  {
   "metadata": {
    "ExecuteTime": {
     "end_time": "2025-03-03T03:20:07.391808Z",
     "start_time": "2025-03-03T03:20:07.301564Z"
    }
   },
   "cell_type": "code",
   "source": [
    "# Prior spatial is a 59412 x 20 probability map of how likely\n",
    "# each cortical vertex is to be part of that label.\n",
    "dmat = np.zeros(rmat.shape)\n",
    "for i, lbl in enumerate(unique_community_labels):\n",
    "    for j in range(priors.num_networks):\n",
    "        dmat[i, j] = np.mean(priors.spatial[community_labels[ctx_idx] == lbl, j])\n",
    "dmat[np.isnan(dmat)] = 0.0\n",
    "\n",
    "np.save(save_to / f\"spatial_sim_{row:02d}.npy\", dmat)\n"
   ],
   "id": "2d05779f3dd29709",
   "outputs": [],
   "execution_count": 92
  },
  {
   "metadata": {
    "ExecuteTime": {
     "end_time": "2025-03-02T23:25:06.395617Z",
     "start_time": "2025-03-02T23:25:06.358372Z"
    }
   },
   "cell_type": "code",
   "source": [
    "# Load matlab probability matrices for testing and comparing\n",
    "\n",
    "ml_uci_func = pd.read_csv(ml_base_path / \"uCiRho.csv\", header=None).values\n",
    "ml_uci_spat = pd.read_csv(ml_base_path / \"uCiSpa.csv\", header=None).values\n"
   ],
   "id": "fce1b392e7c6e2aa",
   "outputs": [],
   "execution_count": 71
  },
  {
   "metadata": {
    "ExecuteTime": {
     "end_time": "2025-03-03T03:20:38.254638Z",
     "start_time": "2025-03-03T03:20:38.226393Z"
    }
   },
   "cell_type": "code",
   "source": [
    "from mfs_tools.library.utility_stuff import compare_mats\n",
    "\n",
    "compare_mats(rmat, ml_uci_func, tolerance=0.0001, verbose=True)\n",
    "\n",
    "compare_mats(dmat, ml_uci_spat, tolerance=0.0001, verbose=True)\n"
   ],
   "id": "dff3ba62add6c5a",
   "outputs": [
    {
     "name": "stdout",
     "output_type": "stream",
     "text": [
      "\u001B[1;32m  The matrices 'a' and 'b' are equal, with tolerance of 0.0001.\u001B[0m\n",
      "  Mem before 16,591.3MB; Mem after 16,591.3MB; delta 0.0\n",
      "\u001B[1;32m  The matrices 'a' and 'b' are equal, with tolerance of 0.0001.\u001B[0m\n",
      "  Mem before 16,591.3MB; Mem after 16,591.3MB; delta 0.0\n"
     ]
    },
    {
     "data": {
      "text/plain": [
       "True"
      ]
     },
     "execution_count": 93,
     "metadata": {},
     "output_type": "execute_result"
    }
   ],
   "execution_count": 93
  },
  {
   "metadata": {
    "ExecuteTime": {
     "end_time": "2025-03-04T01:09:59.533202Z",
     "start_time": "2025-03-04T01:09:59.471016Z"
    }
   },
   "cell_type": "code",
   "source": [
    "from mfs_tools.library.similarity_scores import SimilarityScores\n",
    "\n",
    "real_v_atlas_functional = ml_uci_func\n",
    "real_v_atlas_spatial = ml_uci_spat\n",
    "num_communities = len(unique_community_labels)\n",
    "s = SimilarityScores(num_communities)\n",
    "\n",
    "for com_idx in range(num_communities):\n",
    "    prob_combo = real_v_atlas_functional[com_idx, :] * real_v_atlas_spatial[com_idx, :]\n",
    "    sorted_indices = np.argsort(prob_combo)[::-1]\n",
    "\n",
    "    s.community[com_idx] = unique_community_labels[com_idx]\n",
    "    s.r[com_idx] = priors.labels.loc[sorted_indices[0], 'r']\n",
    "    s.g[com_idx] = priors.labels.loc[sorted_indices[0], 'g']\n",
    "    s.b[com_idx] = priors.labels.loc[sorted_indices[0], 'b']\n",
    "    s.network[com_idx] = priors.labels.loc[sorted_indices[0], 'label']\n",
    "    s.func_conn[com_idx] = real_v_atlas_functional[com_idx, sorted_indices[0]]\n",
    "    s.spatial_score[com_idx] = real_v_atlas_spatial[com_idx, sorted_indices[0]]\n",
    "    delta_first_second = prob_combo[sorted_indices[0]] - prob_combo[sorted_indices[1]]\n",
    "    s.confidence[com_idx] = delta_first_second / prob_combo[sorted_indices[1]]\n",
    "\n",
    "    # These are offset to store the next-best choices, sequentially\n",
    "    # My #1 matches matlab #1, and my #19 matches matlab #19. but my #0 is unnecessary?\n",
    "    for net_idx in range(priors.num_networks - 1):\n",
    "        s.alt_networks[net_idx][(com_idx,0)] = priors.labels.loc[\n",
    "            sorted_indices[net_idx + 1], 'label'\n",
    "        ]\n",
    "        s.alt_func_sims[net_idx][com_idx] = real_v_atlas_functional[\n",
    "            com_idx, sorted_indices[net_idx + 1]\n",
    "        ]\n",
    "        s.alt_spatial_scores[net_idx][com_idx] = real_v_atlas_spatial[\n",
    "            com_idx, sorted_indices[net_idx + 1]\n",
    "        ]\n",
    "\n",
    "s.report()\n",
    "s.to_excel(save_to / \"similarity_scores.xlsx\")\n"
   ],
   "id": "d3630731c5990cba",
   "outputs": [
    {
     "name": "stdout",
     "output_type": "stream",
     "text": [
      "Community: [1 2 3 4 5 6]\n",
      "Network: [0: CinguloOpercular/Action-mode, 1: Default_Parietal, 2: Default_Parietal, 3: Visual_Lateral, 4: Frontoparietal, 5: DorsalAttention]\n",
      "Network Manual Decision: []\n",
      "R: [0.2745,0.9176,0.9176,0.1059,0.9961,0.3882]\n",
      "G: [0.0275,0.2000,0.2000,0.0078,1.0000,0.8392]\n",
      "B: [0.5765,0.1373,0.1373,0.5725,0.3294,0.2471]\n",
      "FC_Similarity: [0.8024,0.5419,0.6028,0.8329,0.7893,0.7821]\n",
      "Spatial_Score: [0.3011,0.1825,0.2071,0.4086,0.3533,0.3394]\n",
      "Confidence: [2.2359,0.1774,0.2102,1.6257,1.2526,2.4579]\n"
     ]
    }
   ],
   "execution_count": 164
  },
  {
   "metadata": {
    "ExecuteTime": {
     "end_time": "2025-03-04T00:34:27.564335Z",
     "start_time": "2025-03-04T00:34:27.499443Z"
    }
   },
   "cell_type": "code",
   "source": [
    "# Write out a network label/color file for wb_view\n",
    "with open(save_to / \"label_list.txt\", \"w\") as f:\n",
    "    for net_idx, row in priors.labels.iterrows():\n",
    "        f.write(row.label)\n",
    "        f.write(f\"\\n{row.id} {int(row.r * 255)} {int(row.g * 255)} {int(row.b * 255)} 255\\n\")\n"
   ],
   "id": "e0d2750fa2995bb5",
   "outputs": [],
   "execution_count": 158
  },
  {
   "metadata": {
    "ExecuteTime": {
     "end_time": "2025-03-05T05:57:43.252855Z",
     "start_time": "2025-03-05T05:57:43.204183Z"
    }
   },
   "cell_type": "code",
   "source": [
    "# Alternative to below code block,\n",
    "from mfs_tools.library.clustering_stuff import map_community_labels\n",
    "\n",
    "best_guess_community_labels = map_community_labels(\n",
    "    all_community_labels[5, :],\n",
    "    s.network,  # corresponds only to row==5 above\n",
    "    priors.labels,\n",
    "    verbose=True,\n",
    ")\n",
    "print(f\"First {10} columns of {best_guess_community_labels.shape}-shaped array:\")\n",
    "print(best_guess_community_labels[:, :10])\n"
   ],
   "id": "d50cd8037b0caeb7",
   "outputs": [
    {
     "name": "stdout",
     "output_type": "stream",
     "text": [
      "Community #0: 29,045 loci get id 14 (CinguloOpercular/Action-mode).\n",
      "Community #1: 16,696 loci get id 1 (Default_Parietal).\n",
      "Community #2: 12,612 loci get id 1 (Default_Parietal).\n",
      "Community #3: 10,010 loci get id 5 (Visual_Lateral).\n",
      "Community #4: 8,904 loci get id 9 (Frontoparietal).\n",
      "Community #5: 4,140 loci get id 10 (DorsalAttention).\n",
      "First 10 columns of (6, 85059)-shaped array:\n",
      "[[ 0 14 14  0  0  0  0  0  0 14]\n",
      " [ 1  0  0  1  0  1  1  0  1  0]\n",
      " [ 0  0  0  0  0  0  0  0  0  0]\n",
      " [ 0  0  0  0  5  0  0  5  0  0]\n",
      " [ 0  0  0  0  0  0  0  0  0  0]\n",
      " [ 0  0  0  0  0  0  0  0  0  0]]\n"
     ]
    }
   ],
   "execution_count": 212
  },
  {
   "metadata": {
    "ExecuteTime": {
     "end_time": "2025-03-05T06:15:00.884031Z",
     "start_time": "2025-03-05T06:14:59.224002Z"
    }
   },
   "cell_type": "code",
   "source": [
    "# Write Cifti around output_data\n",
    "# Cifti likes to have [t x anat] or [label x anat] data; the output_data match\n",
    "# The Cifti LabelAxis needs 'num_rows' (output_data.shape[0]) dicts,\n",
    "# each with 22 keys (zero + 21 labels with colors)\n",
    "labels = list()\n",
    "for i in range(best_guess_community_labels.shape[0]):\n",
    "    _com_id = [_ for _ in np.unique(best_guess_community_labels[i, :]) if _ != 0][0]\n",
    "    labels.append(str(\n",
    "        priors.labels.loc[pd.Index(priors.labels.id).get_loc(_com_id), 'label']\n",
    "    ))\n",
    "bg_label_axis = nib.cifti2.LabelAxis(\n",
    "    labels, [priors.cifti_labels for _ in labels],\n",
    ")\n",
    "series_axis = nib.cifti2.SeriesAxis(\n",
    "    0, 1, best_guess_community_labels.shape[0],\n",
    ")\n",
    "output_img = nib.cifti2.Cifti2Image(\n",
    "    best_guess_community_labels, (series_axis, get_brain_model_axes(bold_image))\n",
    ")\n",
    "output_img.update_headers()\n",
    "output_img.to_filename(save_to / f\"tmp.dtseries.nii\")\n",
    "\n",
    "output_lbl_img = nib.cifti2.Cifti2Image(\n",
    "    best_guess_community_labels, (bg_label_axis, get_brain_model_axes(bold_image))\n",
    ")\n",
    "output_lbl_img.update_headers()\n",
    "output_lbl_img.to_filename(save_to / f\"best_guess_5.dlabel.nii\")\n",
    "\n",
    "# Don't bother with letting wb_command build this.\n",
    "# Mine is better with labels for each density image."
   ],
   "id": "621ae8ef4b1c35f4",
   "outputs": [],
   "execution_count": 216
  },
  {
   "metadata": {
    "ExecuteTime": {
     "end_time": "2025-03-05T06:43:59.546977Z",
     "start_time": "2025-03-05T06:43:58.715680Z"
    }
   },
   "cell_type": "code",
   "source": [
    "# Build one atlas with all labels for density 0.002 (same as row 5)\n",
    "atlas_lbl_axis = nib.cifti2.LabelAxis(\n",
    "    ['dens 0.002', ], [priors.cifti_labels, ],\n",
    ")\n",
    "atlas_lbl_img = nib.cifti2.Cifti2Image(\n",
    "    np.sum(best_guess_community_labels, axis=0).reshape(1, -1),\n",
    "    (atlas_lbl_axis, get_brain_model_axes(bold_image))\n",
    ")\n",
    "atlas_lbl_img.update_headers()\n",
    "atlas_lbl_img.to_filename(save_to / f\"best_guess_5_atlas.dlabel.nii\")\n"
   ],
   "id": "9f016158ffd8934b",
   "outputs": [],
   "execution_count": 219
  },
  {
   "metadata": {
    "ExecuteTime": {
     "end_time": "2025-03-04T20:17:26.225843Z",
     "start_time": "2025-03-04T20:17:25.291266Z"
    }
   },
   "cell_type": "code",
   "outputs": [],
   "execution_count": 180,
   "source": [
    "import subprocess\n",
    "from mfs_tools.library.file_stuff import find_wb_command_path\n",
    "\n",
    "wb_command = find_wb_command_path()\n",
    "out_file = \"bipartite_someshit\"\n",
    "cmd_lbl = [\n",
    "    wb_command, '-cifti-label-import',\n",
    "    str(save_to / \"tmp.dtseries.nii\"),\n",
    "    str(save_to / \"label_list.txt\"),\n",
    "    str(save_to / f\"{out_file}.dlabel.nii\"),\n",
    "    \"-discard-others\",\n",
    "]\n",
    "cmd_lh = [\n",
    "    wb_command, '-cifti-label-to-border',\n",
    "    str(save_to / f\"{out_file}.dlabel.nii\"),\n",
    "    \"-border\", surface_files['lh'],\n",
    "    str(save_to / f\"{out_file}.L.border\"),\n",
    "]\n",
    "cmd_rh = [\n",
    "    wb_command, '-cifti-label-to-border',\n",
    "    str(save_to / f\"{out_file}.dlabel.nii\"),\n",
    "    \"-border\", surface_files['rh'],\n",
    "    str(save_to / f\"{out_file}.R.border\"),\n",
    "]\n",
    "\n",
    "proc_label = subprocess.run(cmd_lbl)  # no longer necessary\n",
    "proc_lh_border = subprocess.run(cmd_lh)\n",
    "proc_rh_border = subprocess.run(cmd_rh)\n"
   ],
   "id": "f8ed98fb0f24872b"
  },
  {
   "metadata": {
    "ExecuteTime": {
     "end_time": "2025-03-04T22:28:32.204145Z",
     "start_time": "2025-03-04T22:28:31.598181Z"
    }
   },
   "cell_type": "code",
   "source": [
    "from mfs_tools.library.cifti_stuff import get_label_axes\n",
    "\n",
    "# We don't need to do this, but I'd like to inspect the wb_command-generated\n",
    "# dlabel file. Could I have just done this myself?\n",
    "wb_label_img = nib.cifti2.Cifti2Image.from_filename(\n",
    "    save_to / f\"{out_file}.dlabel.nii\"\n",
    ")\n",
    "wb_label_axis = get_label_axes(wb_label_img)\n"
   ],
   "id": "7aae991db0469fb8",
   "outputs": [],
   "execution_count": 189
  },
  {
   "metadata": {
    "ExecuteTime": {
     "end_time": "2025-03-05T00:31:13.502151Z",
     "start_time": "2025-03-05T00:31:12.739006Z"
    }
   },
   "cell_type": "code",
   "source": [
    "# Matlab lines 189-193: Save functional connectivity for each density?\n",
    "output_data_2 = np.zeros(\n",
    "    (len(unique_community_labels), len(brain_axis)),\n",
    "    dtype=np.float32\n",
    ")\n",
    "output_data_2[:, ctx_idx] = new_conn.T\n",
    "scalar_axis = nib.cifti2.ScalarAxis(\n",
    "    ['den 0.01', ] + ['empty' for _ in range(len(unique_community_labels) - 1)],\n",
    ")\n",
    "output_img_2 = nib.cifti2.Cifti2Image(\n",
    "    output_data_2, (scalar_axis, brain_axis)\n",
    ")\n",
    "output_img_2.update_headers()\n",
    "output_img_2.to_filename(save_to / f\"someshit_FC_WholeBrain_but_really_just_cortex.dtseries.nii\")\n"
   ],
   "id": "a04dda48013f8414",
   "outputs": [],
   "execution_count": 201
  },
  {
   "metadata": {
    "ExecuteTime": {
     "end_time": "2025-03-05T00:18:32.697217Z",
     "start_time": "2025-03-05T00:18:32.612811Z"
    }
   },
   "cell_type": "code",
   "source": [
    "# Matlab lines 195-205: Save network labels for all communities.\n",
    "output_data_3 = np.zeros(\n",
    "    (len(unique_community_labels), len(brain_axis)),\n",
    "    dtype=np.float32\n",
    ")\n",
    "for i, community in unique_community_labels:\n",
    "    output_data_3[i, all_community_labels == community] = \\\n",
    "        pd.Index(priors.labels.label).get_loc(community) + 1\n",
    "\n",
    "scalar_axis = nib.cifti2.ScalarAxis(\n",
    "    ['den 0.01', ] + ['empty' for _ in range(len(unique_community_labels) - 1)],\n",
    ")\n",
    "output_img_3 = nib.cifti2.Cifti2Image(\n",
    "    output_data_3, (scalar_axis, brain_axis)\n",
    ")\n",
    "output_img_3.update_headers()\n",
    "output_img_3.to_filename(save_to / f\"another_tmp.dtseries.nii\")\n",
    "\n"
   ],
   "id": "3a14a2e4891ef6cf",
   "outputs": [
    {
     "data": {
      "text/plain": [
       "85059"
      ]
     },
     "execution_count": 191,
     "metadata": {},
     "output_type": "execute_result"
    }
   ],
   "execution_count": 191
  },
  {
   "metadata": {},
   "cell_type": "code",
   "outputs": [],
   "execution_count": null,
   "source": [
    "out_file = \"bipartite_someshit2\"\n",
    "cmd_lbl2 = [\n",
    "    wb_command, '-cifti-label-import',\n",
    "    str(save_to / \"another_tmp.dtseries.nii\"),\n",
    "    str(save_to / \"label_list.txt\"),\n",
    "    str(save_to / f\"{out_file}.dlabel.nii\"),\n",
    "    \"-discard-others\",\n",
    "]\n",
    "proc_label2 = subprocess.run(cmd_lbl2)  # no longer necessary\n"
   ],
   "id": "a3b23ef666cfc190"
  },
  {
   "metadata": {
    "ExecuteTime": {
     "end_time": "2025-03-05T07:23:06.745343Z",
     "start_time": "2025-03-05T07:19:32.540170Z"
    }
   },
   "cell_type": "code",
   "source": [
    "# Matlab Lines 213-241\n",
    "# Functional Connectivity Strength between i and ii\n",
    "final_fc = np.zeros((len(unique_community_labels), all_community_labels.shape[1]),\n",
    "                    dtype=np.float32)\n",
    "fc = np.zeros(\n",
    "    (len(unique_community_labels), len(unique_community_labels)),\n",
    "    dtype=np.float32)\n",
    "ci = np.zeros(len(unique_community_labels), dtype=np.uint8)\n",
    "for i in range(len(unique_community_labels)):\n",
    "    for j in range(len(unique_community_labels)):\n",
    "        row_mask = community_labels[ctx_idx] == unique_community_labels[i]\n",
    "        col_mask = community_labels[ctx_idx] == unique_community_labels[j]\n",
    "        tmp = bold_conn[row_mask, :][:, col_mask]\n",
    "        fc[i, j] = np.mean(tmp[~np.isnan(tmp)])\n",
    "        final_fc[i, community_labels==unique_community_labels[j]] = fc[i, j]\n",
    "\n",
    "    ci[i] = priors.labels.loc[\n",
    "        pd.Index(priors.labels.label).get_loc(s.network[i]),\n",
    "        'id'\n",
    "    ]\n"
   ],
   "id": "713cd75730d36c8",
   "outputs": [],
   "execution_count": 230
  },
  {
   "metadata": {
    "ExecuteTime": {
     "end_time": "2025-03-05T07:44:04.146104Z",
     "start_time": "2025-03-05T07:44:03.369805Z"
    }
   },
   "cell_type": "code",
   "source": [
    "fc_between_infomap_communities_img = nib.cifti2.Cifti2Image(\n",
    "    final_fc, (series_axis, brain_axis)\n",
    ")\n",
    "fc_between_infomap_communities_img.update_headers()\n",
    "fc_between_infomap_communities_img.to_filename(\n",
    "    save_to / f\"fc_between_infomap_communities.dtseries.nii\"\n",
    ")\n"
   ],
   "id": "69c658e786755b98",
   "outputs": [],
   "execution_count": 232
  },
  {
   "metadata": {
    "ExecuteTime": {
     "end_time": "2025-03-05T07:17:30.790942Z",
     "start_time": "2025-03-05T07:17:30.759682Z"
    }
   },
   "cell_type": "code",
   "source": "",
   "id": "5fce3a5409638b6a",
   "outputs": [
    {
     "data": {
      "text/plain": [
       "Index(['Default_Parietal', 'Default_Anterolateral', 'Default_Dorsolateral',\n",
       "       'Default_Retrosplenial', 'Visual_Lateral',\n",
       "       'Visual_Dorsal/VentralStream', 'Visual_V5', 'Visual_V1',\n",
       "       'Frontoparietal', 'DorsalAttention', 'Premotor/DorsalAttentionII',\n",
       "       'Language', 'Salience', 'CinguloOpercular/Action-mode',\n",
       "       'MedialParietal', 'Somatomotor_Hand', 'Somatomotor_Face',\n",
       "       'Somatomotor_Foot', 'Auditory', 'SomatoCognitiveAction', 'Noise'],\n",
       "      dtype='object', name='label')"
      ]
     },
     "execution_count": 227,
     "metadata": {},
     "output_type": "execute_result"
    }
   ],
   "execution_count": 227
  }
 ],
 "metadata": {
  "kernelspec": {
   "display_name": "Python 3",
   "language": "python",
   "name": "python3"
  },
  "language_info": {
   "codemirror_mode": {
    "name": "ipython",
    "version": 2
   },
   "file_extension": ".py",
   "mimetype": "text/x-python",
   "name": "python",
   "nbconvert_exporter": "python",
   "pygments_lexer": "ipython2",
   "version": "2.7.6"
  }
 },
 "nbformat": 4,
 "nbformat_minor": 5
}
