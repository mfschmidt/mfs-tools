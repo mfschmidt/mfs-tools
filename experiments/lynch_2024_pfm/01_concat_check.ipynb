{
 "cells": [
  {
   "metadata": {},
   "cell_type": "markdown",
   "source": [
    "Chuck Lynch published his PFM code supporting his 2024 Nature paper, but it's matlab.\n",
    "I would like my python-based code to generate the same data.\n",
    "Here, I check that."
   ],
   "id": "916f9cfaa5c57507"
  },
  {
   "metadata": {
    "ExecuteTime": {
     "end_time": "2024-11-18T19:02:42.490739Z",
     "start_time": "2024-11-18T19:02:42.273058Z"
    }
   },
   "cell_type": "code",
   "source": [
    "from pathlib import Path\n",
    "import numpy as np\n",
    "import nibabel as nib\n",
    "import pandas as pd\n",
    "\n",
    "from mfs_tools.library.concat_stuff import concat_dtseries\n",
    "\n",
    "# TODO: Add --set-mean and --set-sd to concat_dtseries\n"
   ],
   "id": "9b405408e2fcbaed",
   "outputs": [],
   "execution_count": 1
  },
  {
   "metadata": {
    "ExecuteTime": {
     "end_time": "2024-11-18T19:02:42.505115Z",
     "start_time": "2024-11-18T19:02:42.495385Z"
    }
   },
   "cell_type": "code",
   "source": [
    "# Gather the same files as the matlab code.\n",
    "# I could just glob, but I need to loop the same way as in matlab.\n",
    "\n",
    "\n",
    "\n",
    "subject = \"ME01\"\n",
    "data_dir = Path(\"/mnt/brunodata/open_data/ds005118/\")\n",
    "derivatives_dir = data_dir / \"derivatives\" / f\"sub-{subject}\"\n",
    "processed_dir = derivatives_dir / \"processed_restingstate_timecourses\"\n",
    "n_sessions = len(list(\n",
    "    processed_dir.glob(\"ses-func*1\")\n",
    "))\n",
    "print(n_sessions)\n"
   ],
   "id": "29031c623ea86a66",
   "outputs": [
    {
     "name": "stdout",
     "output_type": "stream",
     "text": [
      "1\n"
     ]
    }
   ],
   "execution_count": 2
  },
  {
   "metadata": {
    "ExecuteTime": {
     "end_time": "2024-11-18T19:03:15.677818Z",
     "start_time": "2024-11-18T19:02:42.565479Z"
    }
   },
   "cell_type": "code",
   "source": [
    "\n",
    "\n",
    "run_data_mats = list()\n",
    "a_cifti_template = None\n",
    "\n",
    "n_sessions = len(list(\n",
    "    processed_dir.glob(\"ses-func*1\")\n",
    "))\n",
    "print(n_sessions)\n",
    "\n",
    "for i_ses in range(n_sessions):\n",
    "    n_runs = len(list(\n",
    "        (processed_dir / f\"ses-func{i_ses + 1:02d}\").glob(\"*run-*.dtseries.nii\")\n",
    "    ))\n",
    "    print(f\"Session {i_ses + 1:02d}, {n_runs:02d} runs\")\n",
    "\n",
    "    for i_run in range(n_runs):\n",
    "        dt_file = f\"sub-{subject}_ses-func{i_ses + 1:02d}_task-rest_run-{i_run + 1:02d}_bold_32k_fsLR.dtseries.nii\"\n",
    "        a_cifti_template = nib.load(\n",
    "            processed_dir / f\"ses-func{i_ses + 1:02d}\" / dt_file\n",
    "        )\n",
    "        run_data = a_cifti_template.get_fdata()\n",
    "        print(f\"  data {run_data.shape} mean {np.mean(run_data):0.2f} +- {np.std(run_data):0.2f}\")\n",
    "\n",
    "        tmask_file = dt_file.replace(\".dtseries.nii\", \"_tmask.txt\")\n",
    "        tmask = pd.read_csv(\n",
    "            processed_dir / f\"ses-func{i_ses + 1:02d}\" / tmask_file,\n",
    "            header=None, index_col=None\n",
    "        )\n",
    "        print(f\"  tmask is shaped {tmask.values.shape} with {np.sum(tmask.values)} ones.\")\n",
    "\n",
    "        # De-meaning occurs across time at each locus.\n",
    "        # These matrices are [time x location], which differs from matlab's [location x time]\n",
    "        run_data = run_data[tmask.values.ravel() == 1, :]\n",
    "        run_data = run_data - np.mean(run_data, axis=0)\n",
    "        print(f\"  data {run_data.shape} mean {np.mean(run_data):0.2f} +- {np.std(run_data):0.2f}\")\n",
    "\n",
    "        run_data_mats.append(run_data)\n",
    "\n",
    "concatenated_data = np.concatenate(run_data_mats, axis=0)\n",
    "print(f\"  data {concatenated_data.shape} mean {np.mean(concatenated_data):0.2f} +- {np.std(concatenated_data):0.2f}\")\n"
   ],
   "id": "8ce19cc5bf2b43a4",
   "outputs": [
    {
     "name": "stdout",
     "output_type": "stream",
     "text": [
      "1\n",
      "Session 01, 04 runs\n",
      "  data (640, 85059) mean 2480.96 +- 544.24\n",
      "  tmask is shaped (640, 1) with 640 ones.\n",
      "  data (640, 85059) mean 0.00 +- 27.95\n",
      "  data (640, 85059) mean 2456.04 +- 541.37\n",
      "  tmask is shaped (640, 1) with 640 ones.\n",
      "  data (640, 85059) mean 0.00 +- 23.27\n",
      "  data (640, 85059) mean 2427.18 +- 530.81\n",
      "  tmask is shaped (640, 1) with 640 ones.\n",
      "  data (640, 85059) mean 0.00 +- 28.88\n",
      "  data (640, 85059) mean 2444.67 +- 547.28\n",
      "  tmask is shaped (640, 1) with 640 ones.\n",
      "  data (640, 85059) mean -0.00 +- 27.19\n",
      "  data (2560, 85059) mean 0.00 +- 26.91\n"
     ]
    }
   ],
   "execution_count": 3
  },
  {
   "metadata": {
    "ExecuteTime": {
     "end_time": "2024-11-18T19:03:18.305727Z",
     "start_time": "2024-11-18T19:03:15.686500Z"
    }
   },
   "cell_type": "code",
   "source": [
    "# Build a new Cifti2Image from concatenated data\n",
    "\n",
    "concatenated_cifti_axis_0 = a_cifti_template.header.get_axis(0)\n",
    "tr_len = concatenated_cifti_axis_0.step\n",
    "concatenated_cifti_axis_1 = a_cifti_template.header.get_axis(1)\n",
    "concatenated_cifti_axis_0 = nib.cifti2.SeriesAxis(\n",
    "    start=0, step=tr_len, size=concatenated_data.shape[0]\n",
    ")\n",
    "concatenated_img = nib.cifti2.Cifti2Image(\n",
    "    concatenated_data, (concatenated_cifti_axis_0, concatenated_cifti_axis_1)\n",
    ")\n",
    "concatenated_img.update_headers()\n",
    "py_concat_0_path = (\n",
    "        Path(f\"/mnt/cache/pfm_python/\") /\n",
    "        f\"sub-{subject}_task-rest_concatenated_and_demeaned_32k_fsLR.dtseries.nii\"\n",
    ")\n",
    "concatenated_img.to_filename(py_concat_0_path)\n"
   ],
   "id": "44444461cd1e08c1",
   "outputs": [],
   "execution_count": 4
  },
  {
   "metadata": {},
   "cell_type": "markdown",
   "source": [
    "## Compare data from pairs of files.\n",
    "\n",
    "Ensure my python code did the same thing as Charles Lynch's matlab code."
   ],
   "id": "343f8446ac0b9a23"
  },
  {
   "metadata": {
    "ExecuteTime": {
     "end_time": "2024-11-18T19:03:21.043792Z",
     "start_time": "2024-11-18T19:03:18.312360Z"
    }
   },
   "cell_type": "code",
   "source": [
    "# Compare my concatenated data to Lynch's\n",
    "\n",
    "python_img = nib.cifti2.Cifti2Image.from_filename(py_concat_0_path)\n",
    "\n",
    "ml_concat_0_path = (\n",
    "        Path(\"/mnt/cache/ds005118_sub-ME01/pfm/\") /\n",
    "        f\"sub-{subject}_task-rest_concatenated_and_demeaned_32k_fsLR.dtseries.nii\"\n",
    ")\n",
    "matlab_img = nib.cifti2.Cifti2Image.from_filename(ml_concat_0_path)\n",
    "\n",
    "if np.allclose(python_img.get_fdata(), matlab_img.get_fdata()):\n",
    "    print(\"They match!\")\n",
    "else:\n",
    "    print(\"I guess we missed.\")\n"
   ],
   "id": "9797d11d1f798fd8",
   "outputs": [
    {
     "name": "stdout",
     "output_type": "stream",
     "text": [
      "They match!\n"
     ]
    }
   ],
   "execution_count": 5
  },
  {
   "metadata": {
    "ExecuteTime": {
     "end_time": "2024-11-18T19:03:21.056111Z",
     "start_time": "2024-11-18T19:03:21.054676Z"
    }
   },
   "cell_type": "code",
   "source": [
    "# Compare templateflow gifti surface data to Lynch's\n",
    "\n",
    "# He used his own brain for the gii; I'm using a template.\n",
    "# They won't match.\n",
    "\n"
   ],
   "id": "b1fb30f7015fa91d",
   "outputs": [],
   "execution_count": 6
  },
  {
   "metadata": {},
   "cell_type": "markdown",
   "source": [
    "----\n",
    "Below is individual testing, doesn't need to be run.\n",
    "----"
   ],
   "id": "867f827828a43ff"
  },
  {
   "metadata": {
    "ExecuteTime": {
     "end_time": "2024-11-18T19:03:21.096528Z",
     "start_time": "2024-11-18T19:03:21.093555Z"
    }
   },
   "cell_type": "code",
   "source": [
    "# Verify row-wise vs column-wise averaging\n",
    "\n",
    "test_array = np.asarray(\n",
    "    [[3, 4, 5, 6, ],\n",
    "     [1, 3, 2, 4, ],\n",
    "     [7, 8, 6, 7, ], ]\n",
    ")\n",
    "print(\"axis=0; mean of each column\", np.mean(test_array, axis=0))\n",
    "print(\"axis=1; mean of each row\", np.mean(test_array, axis=1))"
   ],
   "id": "34ae8d522580156",
   "outputs": [
    {
     "name": "stdout",
     "output_type": "stream",
     "text": [
      "axis=0; mean of each column [3.66666667 5.         4.33333333 5.66666667]\n",
      "axis=1; mean of each row [4.5 2.5 7. ]\n"
     ]
    }
   ],
   "execution_count": 7
  },
  {
   "metadata": {
    "ExecuteTime": {
     "end_time": "2024-11-18T19:03:21.391048Z",
     "start_time": "2024-11-18T19:03:21.141204Z"
    }
   },
   "cell_type": "code",
   "source": [
    "# Review one cifti to ensure I'm reading it right.\n",
    "\n",
    "cdata = nib.load(\"/mnt/brunodata/open_data/ds005118/derivatives/sub-ME01/processed_restingstate_timecourses/ses-func01/sub-ME01_ses-func01_task-rest_run-01_bold_32k_fsLR.dtseries.nii\")\n",
    "print(cdata.shape)\n"
   ],
   "id": "35d5ced81ead27b9",
   "outputs": [
    {
     "name": "stdout",
     "output_type": "stream",
     "text": [
      "(640, 85059)\n"
     ]
    }
   ],
   "execution_count": 8
  },
  {
   "metadata": {
    "ExecuteTime": {
     "end_time": "2024-11-18T19:03:21.410232Z",
     "start_time": "2024-11-18T19:03:21.397030Z"
    }
   },
   "cell_type": "code",
   "source": [
    "# Review one mask to ensure I'm reading it right.\n",
    "\n",
    "tmask = pd.read_csv(\"/mnt/brunodata/open_data/ds005118/derivatives/sub-ME01/processed_restingstate_timecourses/ses-func01/sub-ME01_ses-func01_task-rest_run-01_bold_32k_fsLR_tmask.txt\", header=None, index_col=None)\n",
    "print(f\"tmask is shaped {tmask.values.shape} with {np.sum(tmask.values)} ones.\")\n"
   ],
   "id": "e26587e9a5245892",
   "outputs": [
    {
     "name": "stdout",
     "output_type": "stream",
     "text": [
      "tmask is shaped (640, 1) with 640 ones.\n"
     ]
    }
   ],
   "execution_count": 9
  },
  {
   "metadata": {
    "ExecuteTime": {
     "end_time": "2024-11-18T19:03:28.899628Z",
     "start_time": "2024-11-18T19:03:21.440895Z"
    }
   },
   "cell_type": "code",
   "source": [
    "# Artificially set one value to high-motion to test filtering\n",
    "tmask.iloc[12, 0] = 0\n",
    "# The 640-row matrix should drop row 12 and result in 639\n",
    "cdata.get_fdata()[np.astype(tmask.values.ravel(), bool), :].shape"
   ],
   "id": "dcef197fbf3d6092",
   "outputs": [
    {
     "data": {
      "text/plain": [
       "(639, 85059)"
      ]
     },
     "execution_count": 10,
     "metadata": {},
     "output_type": "execute_result"
    }
   ],
   "execution_count": 10
  },
  {
   "metadata": {
    "ExecuteTime": {
     "end_time": "2024-11-18T19:03:28.908338Z",
     "start_time": "2024-11-18T19:03:28.907153Z"
    }
   },
   "cell_type": "code",
   "source": "",
   "id": "204f583e7ebfc33f",
   "outputs": [],
   "execution_count": null
  }
 ],
 "metadata": {
  "kernelspec": {
   "display_name": "Python 3",
   "language": "python",
   "name": "python3"
  },
  "language_info": {
   "codemirror_mode": {
    "name": "ipython",
    "version": 2
   },
   "file_extension": ".py",
   "mimetype": "text/x-python",
   "name": "python",
   "nbconvert_exporter": "python",
   "pygments_lexer": "ipython2",
   "version": "2.7.6"
  }
 },
 "nbformat": 4,
 "nbformat_minor": 5
}
